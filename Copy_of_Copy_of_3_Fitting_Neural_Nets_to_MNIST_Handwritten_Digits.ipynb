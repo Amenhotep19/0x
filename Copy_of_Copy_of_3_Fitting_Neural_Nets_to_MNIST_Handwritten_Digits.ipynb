{
  "nbformat": 4,
  "nbformat_minor": 0,
  "metadata": {
    "colab": {
      "name": "Copy of Copy of 3: Fitting Neural Nets to MNIST Handwritten Digits",
      "provenance": [],
      "collapsed_sections": [],
      "include_colab_link": true
    },
    "kernelspec": {
      "name": "python3",
      "display_name": "Python 3"
    }
  },
  "cells": [
    {
      "cell_type": "markdown",
      "metadata": {
        "id": "view-in-github",
        "colab_type": "text"
      },
      "source": [
        "<a href=\"https://colab.research.google.com/github/Amenhotep19/0x/blob/master/Copy_of_Copy_of_3_Fitting_Neural_Nets_to_MNIST_Handwritten_Digits.ipynb\" target=\"_parent\"><img src=\"https://colab.research.google.com/assets/colab-badge.svg\" alt=\"Open In Colab\"/></a>"
      ]
    },
    {
      "cell_type": "markdown",
      "metadata": {
        "id": "pfNw9Qq9nUrX",
        "colab_type": "text"
      },
      "source": [
        "# __3: Fitting Neural Nets to MNIST Handwritten Digits__\n",
        "\n",
        "## Learning Objectives\n",
        "\n",
        "In this notebook, we'll learn...\n",
        "- how to fit a neural network to flat data and best practices for preprocessing\n",
        "- how to use callbacks and validation sets to stop training and prevent overfitting"
      ]
    },
    {
      "cell_type": "markdown",
      "metadata": {
        "id": "bmYw-7WvD2LG",
        "colab_type": "text"
      },
      "source": [
        "## Import modules\n",
        "As before, let's start by importing the necessary Python modules, including `tensorflow`, `numpy`, and `matplotlib`."
      ]
    },
    {
      "cell_type": "code",
      "metadata": {
        "id": "WLxfmfttD2LL",
        "colab_type": "code",
        "outputId": "84278c13-4e1d-4c5a-8f4f-37b753301361",
        "colab": {
          "base_uri": "https://localhost:8080/",
          "height": 71
        }
      },
      "source": [
        "# Import latest TensorFlow 2 release, NumPy, and matplotlib\n",
        "# Until 2.x is the default in Colab, stipulates that we want to load the latest version of TensorFlow 2.0, not 1.x.\n",
        "%tensorflow_version 2.x\n",
        "import tensorflow as tf\n",
        "from tensorflow.keras.models import Sequential\n",
        "from tensorflow.keras.layers import Dense, Activation, Dropout, ActivityRegularization, Input, Reshape, Flatten, Conv2D\n",
        "from tensorflow.keras.utils import plot_model, to_categorical\n",
        "\n",
        "import numpy as np\n",
        "import matplotlib.pyplot as plt\n",
        "import pandas as pd\n",
        "import seaborn as sns\n",
        "\n",
        "# Changing this option from the default of 75 characters will allow arrays to print entire rows.\n",
        "np.set_printoptions(linewidth=np.inf)"
      ],
      "execution_count": 0,
      "outputs": [
        {
          "output_type": "stream",
          "text": [
            "/usr/local/lib/python3.6/dist-packages/statsmodels/tools/_testing.py:19: FutureWarning: pandas.util.testing is deprecated. Use the functions in the public API at pandas.testing instead.\n",
            "  import pandas.util.testing as tm\n"
          ],
          "name": "stderr"
        }
      ]
    },
    {
      "cell_type": "markdown",
      "metadata": {
        "id": "b1hAbkjFD2LQ",
        "colab_type": "text"
      },
      "source": [
        "## Importing MNIST data\n",
        "\n",
        "For this part of the workshop we'll use the MNIST handwriting data set. You might've heard of this dataset -- it's a benchmark for machine learning techniques and is easily accessible through Tensorflow.\n",
        "\n",
        "The dataset contains $60,000$ examples for training and $10,000$ examples for testing. Each image is $28\\times 28$ pixels, each with a greyscale value from 0 to 255 (0 is black, 255 is white). Below, see some examples; for more on MNIST, see Yann LeCun's [website](http://yann.lecun.com/exdb/mnist/). \n",
        "\n",
        "<br>\n",
        "<img src=\"https://github.com/allemanau/NUIT_tensorflow/blob/master/images/mnist.jpg?raw=1\">\n",
        "<br><br>"
      ]
    },
    {
      "cell_type": "markdown",
      "metadata": {
        "id": "5PxFTshX80pt",
        "colab_type": "text"
      },
      "source": [
        "### Data dimension\n",
        "Here, we specify the dimensions of the images which will be used in several places in the code below. Defining these variables makes it easier (compared with using hard-coded number all throughout the code) to modify them later. Ideally these would be inferred from the data that has been read, but here we will just write the numbers.\n",
        "\n",
        "It's important to note that in a linear model, we have to flatten the input images into a vector. Here, each of the $28\\times28$ images are flattened into a vector of length 784. \n",
        "\n",
        "### 1.3. Load the data and display the sizes\n",
        "Because it is so often used to test network architecture, built-in functions are provided to load the data set into TensorFlow. We can use a built-in function to load the `train` and `test` splits easily:"
      ]
    },
    {
      "cell_type": "code",
      "metadata": {
        "id": "3SBLjgDDD2Ld",
        "colab_type": "code",
        "outputId": "3b5d8b1b-270a-4355-d946-3a524fa3aa66",
        "colab": {
          "base_uri": "https://localhost:8080/",
          "height": 51
        }
      },
      "source": [
        "# Load MNIST data\n",
        "mnist = tf.keras.datasets.mnist\n",
        "(x_train, raw_y_train), (x_test, raw_y_test) = mnist.load_data()"
      ],
      "execution_count": 0,
      "outputs": [
        {
          "output_type": "stream",
          "text": [
            "Downloading data from https://storage.googleapis.com/tensorflow/tf-keras-datasets/mnist.npz\n",
            "11493376/11490434 [==============================] - 0s 0us/step\n"
          ],
          "name": "stdout"
        }
      ]
    },
    {
      "cell_type": "markdown",
      "metadata": {
        "id": "aYbX3TykdWns",
        "colab_type": "text"
      },
      "source": [
        "To get a better sense of the data, let's check out the shapes of the loaded arrays."
      ]
    },
    {
      "cell_type": "code",
      "metadata": {
        "id": "8GCSmo2QdXZa",
        "colab_type": "code",
        "outputId": "9af67200-827f-4aaf-95eb-dfe932c39328",
        "colab": {
          "base_uri": "https://localhost:8080/",
          "height": 85
        }
      },
      "source": [
        "print('x_train:\\t{}'.format(x_train.shape))\n",
        "print('y_train:\\t{}'.format(raw_y_train.shape))\n",
        "print('x_test:\\t\\t{}'.format(x_test.shape))\n",
        "print('y_test:\\t\\t{}'.format(raw_y_test.shape))"
      ],
      "execution_count": 0,
      "outputs": [
        {
          "output_type": "stream",
          "text": [
            "x_train:\t(60000, 28, 28)\n",
            "y_train:\t(60000,)\n",
            "x_test:\t\t(10000, 28, 28)\n",
            "y_test:\t\t(10000,)\n"
          ],
          "name": "stdout"
        }
      ]
    },
    {
      "cell_type": "markdown",
      "metadata": {
        "id": "8B9s-IcKbDul",
        "colab_type": "text"
      },
      "source": [
        "Let's take a look at a raw training example."
      ]
    },
    {
      "cell_type": "code",
      "metadata": {
        "id": "BysFAkRfbD9Q",
        "colab_type": "code",
        "outputId": "a58cc344-b84a-4904-88f5-04946683ac5c",
        "colab": {
          "base_uri": "https://localhost:8080/",
          "height": 493
        }
      },
      "source": [
        "# Enables the console to print entire rows of the array.\n",
        "print(\"{}\".format(x_train[2020]))"
      ],
      "execution_count": 0,
      "outputs": [
        {
          "output_type": "stream",
          "text": [
            "[[  0   0   0   0   0   0   0   0   0   0   0   0   0   0   0   0   0   0   0   0   0   0   0   0   0   0   0   0]\n",
            " [  0   0   0   0   0   0   0   0   0   0   0   0   0   0   0   0   0   0   0   0   0   0   0   0   0   0   0   0]\n",
            " [  0   0   0   0   0   0   0   0   0   0   0   0   0 167 208  19   0   0   0   0   0   0   0   0   0   0   0   0]\n",
            " [  0   0   0   0   0   0   0   0   0   0   0   0  13 235 254  99   0   0   0   0   0   0   0   0   0   0   0   0]\n",
            " [  0   0   0   0   0   0   0   0   0   0   0   0  74 254 234   4   0   0   0   0   0   0   0   0   0   0   0   0]\n",
            " [  0   0   0   0   0   0   0   0   0   0   0   0 154 254 145   0   0   0   0   0   0   0   0   0   0   0   0   0]\n",
            " [  0   0   0   0   0   0   0   0   0   0   0   0 224 254  92   0   0   0   0   0   0   0   0   0   0   0   0   0]\n",
            " [  0   0   0   0   0   0   0   0   0   0   0  51 245 211  13   0   0   0   0   0   0   0   0   0   0   0   0   0]\n",
            " [  0   0   0   0   0   0   0   0   0   0   2 169 254 101   0   0   0   0   0   0   0   0   0   0   0   0   0   0]\n",
            " [  0   0   0   0   0   0   0   0   0   0  27 254 254  88   0   0   0   0   0   0   0   0   0   0   0   0   0   0]\n",
            " [  0   0   0   0   0   0   0   0   0   0  72 255 241  15   0   0   0   0   0   0   0   0   0   0   0   0   0   0]\n",
            " [  0   0   0   0   0   0   0   0   0   0  88 254 153   0   0  33  53 155 156 102  15   0   0   0   0   0   0   0]\n",
            " [  0   0   0   0   0   0   0   0   0   0 130 254  31   0 128 235 254 254 254 254 186  10   0   0   0   0   0   0]\n",
            " [  0   0   0   0   0   0   0   0   0   0 190 254  51 178 254 246 213 111 109 186 254 145   0   0   0   0   0   0]\n",
            " [  0   0   0   0   0   0   0   0   0   0 192 254 229 254 216  90   0   0   0  57 254 234   0   0   0   0   0   0]\n",
            " [  0   0   0   0   0   0   0   0   0   0 235 254 254 247  85   0   0   0   0  32 254 234   0   0   0   0   0   0]\n",
            " [  0   0   0   0   0   0   0   0   0   0 235 254 254 118   0   0   0   0   0 107 254 201   0   0   0   0   0   0]\n",
            " [  0   0   0   0   0   0   0   0   0   0 235 255 254 102  12   0   0   0   8 188 248 119   0   0   0   0   0   0]\n",
            " [  0   0   0   0   0   0   0   0   0   0 207 254 254 238 107   0   0  39 175 254 148   0   0   0   0   0   0   0]\n",
            " [  0   0   0   0   0   0   0   0   0   0  84 254 248  74  11  32 115 238 254 176  11   0   0   0   0   0   0   0]\n",
            " [  0   0   0   0   0   0   0   0   0   0  21 214 254 254 254 254 254 254 132   6   0   0   0   0   0   0   0   0]\n",
            " [  0   0   0   0   0   0   0   0   0   0   0  14  96 176 254 254 214  48  12   0   0   0   0   0   0   0   0   0]\n",
            " [  0   0   0   0   0   0   0   0   0   0   0   0   0   0   0   0   0   0   0   0   0   0   0   0   0   0   0   0]\n",
            " [  0   0   0   0   0   0   0   0   0   0   0   0   0   0   0   0   0   0   0   0   0   0   0   0   0   0   0   0]\n",
            " [  0   0   0   0   0   0   0   0   0   0   0   0   0   0   0   0   0   0   0   0   0   0   0   0   0   0   0   0]\n",
            " [  0   0   0   0   0   0   0   0   0   0   0   0   0   0   0   0   0   0   0   0   0   0   0   0   0   0   0   0]\n",
            " [  0   0   0   0   0   0   0   0   0   0   0   0   0   0   0   0   0   0   0   0   0   0   0   0   0   0   0   0]\n",
            " [  0   0   0   0   0   0   0   0   0   0   0   0   0   0   0   0   0   0   0   0   0   0   0   0   0   0   0   0]]\n"
          ],
          "name": "stdout"
        }
      ]
    },
    {
      "cell_type": "markdown",
      "metadata": {
        "id": "g7MlELFiWsqE",
        "colab_type": "text"
      },
      "source": [
        "Although there are model configurations that don't require __one-hot encoding__ of the outcome variable, it's good practice to stick with a consistent coding scheme unless you are comfortable with optimization options. One-hot encoding just changes the representation from a single categorical variable to a categorical indicator matrix. Although we don't have a model built yet, let's do this now."
      ]
    },
    {
      "cell_type": "code",
      "metadata": {
        "id": "Jn8qh5ozWtkM",
        "colab_type": "code",
        "outputId": "9f58cf8d-0379-400c-d1f9-3992b6499fc1",
        "colab": {
          "base_uri": "https://localhost:8080/",
          "height": 136
        }
      },
      "source": [
        "# One hot encode classes\n",
        "y_train = to_categorical(raw_y_train, num_classes = 10)\n",
        "y_test = to_categorical(raw_y_test, num_classes = 10)\n",
        "\n",
        "print(\"First three entries of raw y_train:\\n {}\\n\".format(raw_y_train[0:3]))\n",
        "print(\"First three rows of one-hot y_train:\\n {}\".format(y_train[0:3,]))"
      ],
      "execution_count": 0,
      "outputs": [
        {
          "output_type": "stream",
          "text": [
            "First three entries of raw y_train:\n",
            " [5 0 4]\n",
            "\n",
            "First three rows of one-hot y_train:\n",
            " [[0. 0. 0. 0. 0. 1. 0. 0. 0. 0.]\n",
            " [1. 0. 0. 0. 0. 0. 0. 0. 0. 0.]\n",
            " [0. 0. 0. 0. 1. 0. 0. 0. 0. 0.]]\n"
          ],
          "name": "stdout"
        }
      ]
    },
    {
      "cell_type": "markdown",
      "metadata": {
        "id": "SObeZPn9rQP6",
        "colab_type": "text"
      },
      "source": [
        "### Plot a few examples\n",
        "\n",
        "Let's take a quick look at a sample of the handwritten digits in the data."
      ]
    },
    {
      "cell_type": "code",
      "metadata": {
        "id": "iZqFFa6qrPnX",
        "colab_type": "code",
        "outputId": "b755caf7-182a-4e1d-9022-838466f9d5fa",
        "colab": {
          "base_uri": "https://localhost:8080/",
          "height": 343
        }
      },
      "source": [
        "fig = plt.figure(figsize = (12, 6))\n",
        "\n",
        "for i in range(10):\n",
        "    ind = np.random.choice(np.ndarray.flatten(np.argwhere(raw_y_train == i)))\n",
        "    plottable_image = np.reshape(x_train[ind], (28, 28))\n",
        "    ax = fig.add_subplot(2, 5, i+1)\n",
        "    ax.imshow(plottable_image, cmap='gray_r')"
      ],
      "execution_count": 0,
      "outputs": [
        {
          "output_type": "display_data",
          "data": {
            "image/png": "[encoded data removed]",
            "text/plain": [
              "<Figure size 864x432 with 10 Axes>"
            ]
          },
          "metadata": {
            "tags": [],
            "needs_background": "light"
          }
        }
      ]
    },
    {
      "cell_type": "markdown",
      "metadata": {
        "id": "VpfV2KRBD2Lx",
        "colab_type": "text"
      },
      "source": [
        "## __Hyperparameters__\n",
        "\n",
        "In the last notebook, we talked a bit about specifying the number of epochs to train for -- nothing formal, just recognition of the fact that 500 epochs was too many. In reality, this is just one of many hyperparameters we can tune to improve performance and convergence, or reduce training time and memory usage.\n",
        "\n",
        "- _Length of model fitting routine_\n",
        "  - __epoch__: one forward pass and one backward pass of __all__ the training examples, regulated by the `epochs` parameter. (Each progress bar you see in the output of `fit()`)\n",
        "  - __batch size__: the number of training examples in one forward/backward pass, regulated by the `batch_size` parameter. The higher the batch size, the more memory space you'll need, and the less often the model's parameters will update.\n",
        "  - __iteration__: one forward pass and one backward pass of __one batch of images__ the training examples. The number of iterations in one epoch is related to the batch size and number of training examples as \n",
        "\n",
        "  \\begin{equation*}\n",
        "  \\text{iterations} = \\text{ceiling}(\\text{training examples}/\\text{batch size})\n",
        "  \\end{equation*}\n",
        "\n",
        "- _Rate of model weight adjustment_\n",
        "  - __learning rate__: controls the rate at which model parameters are adjusted, regulated by the `learning_rate` parameter. Lower rates mean the model trains slower, but with potentially improved convergence. Higher rates mean faster training but can cause convergence issues.\n",
        "  - __optimizer__: some optimizers are better for certain applications. Some are just better than others, period."
      ]
    },
    {
      "cell_type": "code",
      "metadata": {
        "id": "cyT0zD6eD2Lz",
        "colab_type": "code",
        "colab": {}
      },
      "source": [
        "# Global settings\n",
        "loss_fn = 'categorical_crossentropy'\n",
        "optim = 'adam'\n",
        "batch_size = 500"
      ],
      "execution_count": 0,
      "outputs": []
    },
    {
      "cell_type": "markdown",
      "metadata": {
        "id": "O9gJHdBdD2MN",
        "colab_type": "text"
      },
      "source": [
        "### Specify a network architecture\n",
        "\n",
        "Below is the neural network architecture we will use today for classifying MNIST digits.\n",
        "\n",
        "<img src=\"https://github.com/allemanau/NUIT_tensorflow/blob/master/images/network_architecture.png?raw=1\">\n",
        "\n",
        "Using the layering syntax from the previous notebook, let's build this model.\n",
        "\n",
        "## __Exercise__"
      ]
    },
    {
      "cell_type": "code",
      "metadata": {
        "id": "lgOV-i-xSlqm",
        "colab_type": "code",
        "outputId": "880f6688-4036-4373-d874-a16b040f972b",
        "colab": {
          "base_uri": "https://localhost:8080/",
          "height": 77
        }
      },
      "source": [
        "### BUILD THE MODEL BELOW\n",
        "basic_model = Sequential()\n",
        "\n",
        "# Add layers here.\n",
        "\n",
        "\n",
        "# Plot our model.\n",
        "plot_model(basic_model, show_shapes = True)"
      ],
      "execution_count": 0,
      "outputs": [
        {
          "output_type": "execute_result",
          "data": {
            "image/png": "[encoded data removed]",
            "text/plain": [
              "<IPython.core.display.Image object>"
            ]
          },
          "metadata": {
            "tags": []
          },
          "execution_count": 10
        }
      ]
    },
    {
      "cell_type": "markdown",
      "metadata": {
        "id": "-jKKRSXR3zJ-",
        "colab_type": "text"
      },
      "source": [
        "## Compile and fit the model\n",
        "\n",
        "The model's architecture is specified and has been instantiated as an object. Now, we need to __compile__ and __fit__ the model to data. Along the way, there are still several choices to make: which method should be used to optimize the network, by what loss function will we measure our success, and which progress metrics should be reported?"
      ]
    },
    {
      "cell_type": "code",
      "metadata": {
        "id": "owRUoN1NTaQ4",
        "colab_type": "code",
        "outputId": "178ca81e-95e7-4d61-c5f2-9d0d75df8b5b",
        "colab": {
          "base_uri": "https://localhost:8080/",
          "height": 783
        }
      },
      "source": [
        "# In general, the ADAM optimizer does a good job. For larger data sets, \n",
        "# stochastic gradient descent can be a better choice.\n",
        "basic_model.compile(optimizer = optim,\n",
        "                    loss = loss_fn,\n",
        "                    metrics = ['accuracy'])\n",
        "\n",
        "history = basic_model.fit(x_train, \n",
        "                y_train, \n",
        "                batch_size = batch_size,\n",
        "                epochs = 10)"
      ],
      "execution_count": 0,
      "outputs": [
        {
          "output_type": "stream",
          "text": [
            "Epoch 1/10\n"
          ],
          "name": "stdout"
        },
        {
          "output_type": "error",
          "ename": "ValueError",
          "evalue": "ignored",
          "traceback": [
            "\u001b[0;31m---------------------------------------------------------------------------\u001b[0m",
            "\u001b[0;31mValueError\u001b[0m                                Traceback (most recent call last)",
            "\u001b[0;32m<ipython-input-11-9c286ef25cd2>\u001b[0m in \u001b[0;36m<module>\u001b[0;34m()\u001b[0m\n\u001b[1;32m      8\u001b[0m                 \u001b[0my_train\u001b[0m\u001b[0;34m,\u001b[0m\u001b[0;34m\u001b[0m\u001b[0;34m\u001b[0m\u001b[0m\n\u001b[1;32m      9\u001b[0m                 \u001b[0mbatch_size\u001b[0m \u001b[0;34m=\u001b[0m \u001b[0mbatch_size\u001b[0m\u001b[0;34m,\u001b[0m\u001b[0;34m\u001b[0m\u001b[0;34m\u001b[0m\u001b[0m\n\u001b[0;32m---> 10\u001b[0;31m                 epochs = 10)\n\u001b[0m",
            "\u001b[0;32m/usr/local/lib/python3.6/dist-packages/tensorflow/python/keras/engine/training.py\u001b[0m in \u001b[0;36m_method_wrapper\u001b[0;34m(self, *args, **kwargs)\u001b[0m\n\u001b[1;32m     64\u001b[0m   \u001b[0;32mdef\u001b[0m \u001b[0m_method_wrapper\u001b[0m\u001b[0;34m(\u001b[0m\u001b[0mself\u001b[0m\u001b[0;34m,\u001b[0m \u001b[0;34m*\u001b[0m\u001b[0margs\u001b[0m\u001b[0;34m,\u001b[0m \u001b[0;34m**\u001b[0m\u001b[0mkwargs\u001b[0m\u001b[0;34m)\u001b[0m\u001b[0;34m:\u001b[0m\u001b[0;34m\u001b[0m\u001b[0;34m\u001b[0m\u001b[0m\n\u001b[1;32m     65\u001b[0m     \u001b[0;32mif\u001b[0m \u001b[0;32mnot\u001b[0m \u001b[0mself\u001b[0m\u001b[0;34m.\u001b[0m\u001b[0m_in_multi_worker_mode\u001b[0m\u001b[0;34m(\u001b[0m\u001b[0;34m)\u001b[0m\u001b[0;34m:\u001b[0m  \u001b[0;31m# pylint: disable=protected-access\u001b[0m\u001b[0;34m\u001b[0m\u001b[0;34m\u001b[0m\u001b[0m\n\u001b[0;32m---> 66\u001b[0;31m       \u001b[0;32mreturn\u001b[0m \u001b[0mmethod\u001b[0m\u001b[0;34m(\u001b[0m\u001b[0mself\u001b[0m\u001b[0;34m,\u001b[0m \u001b[0;34m*\u001b[0m\u001b[0margs\u001b[0m\u001b[0;34m,\u001b[0m \u001b[0;34m**\u001b[0m\u001b[0mkwargs\u001b[0m\u001b[0;34m)\u001b[0m\u001b[0;34m\u001b[0m\u001b[0;34m\u001b[0m\u001b[0m\n\u001b[0m\u001b[1;32m     67\u001b[0m \u001b[0;34m\u001b[0m\u001b[0m\n\u001b[1;32m     68\u001b[0m     \u001b[0;31m# Running inside `run_distribute_coordinator` already.\u001b[0m\u001b[0;34m\u001b[0m\u001b[0;34m\u001b[0m\u001b[0;34m\u001b[0m\u001b[0m\n",
            "\u001b[0;32m/usr/local/lib/python3.6/dist-packages/tensorflow/python/keras/engine/training.py\u001b[0m in \u001b[0;36mfit\u001b[0;34m(self, x, y, batch_size, epochs, verbose, callbacks, validation_split, validation_data, shuffle, class_weight, sample_weight, initial_epoch, steps_per_epoch, validation_steps, validation_batch_size, validation_freq, max_queue_size, workers, use_multiprocessing)\u001b[0m\n\u001b[1;32m    846\u001b[0m                 batch_size=batch_size):\n\u001b[1;32m    847\u001b[0m               \u001b[0mcallbacks\u001b[0m\u001b[0;34m.\u001b[0m\u001b[0mon_train_batch_begin\u001b[0m\u001b[0;34m(\u001b[0m\u001b[0mstep\u001b[0m\u001b[0;34m)\u001b[0m\u001b[0;34m\u001b[0m\u001b[0;34m\u001b[0m\u001b[0m\n\u001b[0;32m--> 848\u001b[0;31m               \u001b[0mtmp_logs\u001b[0m \u001b[0;34m=\u001b[0m \u001b[0mtrain_function\u001b[0m\u001b[0;34m(\u001b[0m\u001b[0miterator\u001b[0m\u001b[0;34m)\u001b[0m\u001b[0;34m\u001b[0m\u001b[0;34m\u001b[0m\u001b[0m\n\u001b[0m\u001b[1;32m    849\u001b[0m               \u001b[0;31m# Catch OutOfRangeError for Datasets of unknown size.\u001b[0m\u001b[0;34m\u001b[0m\u001b[0;34m\u001b[0m\u001b[0;34m\u001b[0m\u001b[0m\n\u001b[1;32m    850\u001b[0m               \u001b[0;31m# This blocks until the batch has finished executing.\u001b[0m\u001b[0;34m\u001b[0m\u001b[0;34m\u001b[0m\u001b[0;34m\u001b[0m\u001b[0m\n",
            "\u001b[0;32m/usr/local/lib/python3.6/dist-packages/tensorflow/python/eager/def_function.py\u001b[0m in \u001b[0;36m__call__\u001b[0;34m(self, *args, **kwds)\u001b[0m\n\u001b[1;32m    578\u001b[0m         \u001b[0mxla_context\u001b[0m\u001b[0;34m.\u001b[0m\u001b[0mExit\u001b[0m\u001b[0;34m(\u001b[0m\u001b[0;34m)\u001b[0m\u001b[0;34m\u001b[0m\u001b[0;34m\u001b[0m\u001b[0m\n\u001b[1;32m    579\u001b[0m     \u001b[0;32melse\u001b[0m\u001b[0;34m:\u001b[0m\u001b[0;34m\u001b[0m\u001b[0;34m\u001b[0m\u001b[0m\n\u001b[0;32m--> 580\u001b[0;31m       \u001b[0mresult\u001b[0m \u001b[0;34m=\u001b[0m \u001b[0mself\u001b[0m\u001b[0;34m.\u001b[0m\u001b[0m_call\u001b[0m\u001b[0;34m(\u001b[0m\u001b[0;34m*\u001b[0m\u001b[0margs\u001b[0m\u001b[0;34m,\u001b[0m \u001b[0;34m**\u001b[0m\u001b[0mkwds\u001b[0m\u001b[0;34m)\u001b[0m\u001b[0;34m\u001b[0m\u001b[0;34m\u001b[0m\u001b[0m\n\u001b[0m\u001b[1;32m    581\u001b[0m \u001b[0;34m\u001b[0m\u001b[0m\n\u001b[1;32m    582\u001b[0m     \u001b[0;32mif\u001b[0m \u001b[0mtracing_count\u001b[0m \u001b[0;34m==\u001b[0m \u001b[0mself\u001b[0m\u001b[0;34m.\u001b[0m\u001b[0m_get_tracing_count\u001b[0m\u001b[0;34m(\u001b[0m\u001b[0;34m)\u001b[0m\u001b[0;34m:\u001b[0m\u001b[0;34m\u001b[0m\u001b[0;34m\u001b[0m\u001b[0m\n",
            "\u001b[0;32m/usr/local/lib/python3.6/dist-packages/tensorflow/python/eager/def_function.py\u001b[0m in \u001b[0;36m_call\u001b[0;34m(self, *args, **kwds)\u001b[0m\n\u001b[1;32m    625\u001b[0m       \u001b[0;31m# This is the first call of __call__, so we have to initialize.\u001b[0m\u001b[0;34m\u001b[0m\u001b[0;34m\u001b[0m\u001b[0;34m\u001b[0m\u001b[0m\n\u001b[1;32m    626\u001b[0m       \u001b[0minitializers\u001b[0m \u001b[0;34m=\u001b[0m \u001b[0;34m[\u001b[0m\u001b[0;34m]\u001b[0m\u001b[0;34m\u001b[0m\u001b[0;34m\u001b[0m\u001b[0m\n\u001b[0;32m--> 627\u001b[0;31m       \u001b[0mself\u001b[0m\u001b[0;34m.\u001b[0m\u001b[0m_initialize\u001b[0m\u001b[0;34m(\u001b[0m\u001b[0margs\u001b[0m\u001b[0;34m,\u001b[0m \u001b[0mkwds\u001b[0m\u001b[0;34m,\u001b[0m \u001b[0madd_initializers_to\u001b[0m\u001b[0;34m=\u001b[0m\u001b[0minitializers\u001b[0m\u001b[0;34m)\u001b[0m\u001b[0;34m\u001b[0m\u001b[0;34m\u001b[0m\u001b[0m\n\u001b[0m\u001b[1;32m    628\u001b[0m     \u001b[0;32mfinally\u001b[0m\u001b[0;34m:\u001b[0m\u001b[0;34m\u001b[0m\u001b[0;34m\u001b[0m\u001b[0m\n\u001b[1;32m    629\u001b[0m       \u001b[0;31m# At this point we know that the initialization is complete (or less\u001b[0m\u001b[0;34m\u001b[0m\u001b[0;34m\u001b[0m\u001b[0;34m\u001b[0m\u001b[0m\n",
            "\u001b[0;32m/usr/local/lib/python3.6/dist-packages/tensorflow/python/eager/def_function.py\u001b[0m in \u001b[0;36m_initialize\u001b[0;34m(self, args, kwds, add_initializers_to)\u001b[0m\n\u001b[1;32m    504\u001b[0m     self._concrete_stateful_fn = (\n\u001b[1;32m    505\u001b[0m         self._stateful_fn._get_concrete_function_internal_garbage_collected(  # pylint: disable=protected-access\n\u001b[0;32m--> 506\u001b[0;31m             *args, **kwds))\n\u001b[0m\u001b[1;32m    507\u001b[0m \u001b[0;34m\u001b[0m\u001b[0m\n\u001b[1;32m    508\u001b[0m     \u001b[0;32mdef\u001b[0m \u001b[0minvalid_creator_scope\u001b[0m\u001b[0;34m(\u001b[0m\u001b[0;34m*\u001b[0m\u001b[0munused_args\u001b[0m\u001b[0;34m,\u001b[0m \u001b[0;34m**\u001b[0m\u001b[0munused_kwds\u001b[0m\u001b[0;34m)\u001b[0m\u001b[0;34m:\u001b[0m\u001b[0;34m\u001b[0m\u001b[0;34m\u001b[0m\u001b[0m\n",
            "\u001b[0;32m/usr/local/lib/python3.6/dist-packages/tensorflow/python/eager/function.py\u001b[0m in \u001b[0;36m_get_concrete_function_internal_garbage_collected\u001b[0;34m(self, *args, **kwargs)\u001b[0m\n\u001b[1;32m   2444\u001b[0m       \u001b[0margs\u001b[0m\u001b[0;34m,\u001b[0m \u001b[0mkwargs\u001b[0m \u001b[0;34m=\u001b[0m \u001b[0;32mNone\u001b[0m\u001b[0;34m,\u001b[0m \u001b[0;32mNone\u001b[0m\u001b[0;34m\u001b[0m\u001b[0;34m\u001b[0m\u001b[0m\n\u001b[1;32m   2445\u001b[0m     \u001b[0;32mwith\u001b[0m \u001b[0mself\u001b[0m\u001b[0;34m.\u001b[0m\u001b[0m_lock\u001b[0m\u001b[0;34m:\u001b[0m\u001b[0;34m\u001b[0m\u001b[0;34m\u001b[0m\u001b[0m\n\u001b[0;32m-> 2446\u001b[0;31m       \u001b[0mgraph_function\u001b[0m\u001b[0;34m,\u001b[0m \u001b[0m_\u001b[0m\u001b[0;34m,\u001b[0m \u001b[0m_\u001b[0m \u001b[0;34m=\u001b[0m \u001b[0mself\u001b[0m\u001b[0;34m.\u001b[0m\u001b[0m_maybe_define_function\u001b[0m\u001b[0;34m(\u001b[0m\u001b[0margs\u001b[0m\u001b[0;34m,\u001b[0m \u001b[0mkwargs\u001b[0m\u001b[0;34m)\u001b[0m\u001b[0;34m\u001b[0m\u001b[0;34m\u001b[0m\u001b[0m\n\u001b[0m\u001b[1;32m   2447\u001b[0m     \u001b[0;32mreturn\u001b[0m \u001b[0mgraph_function\u001b[0m\u001b[0;34m\u001b[0m\u001b[0;34m\u001b[0m\u001b[0m\n\u001b[1;32m   2448\u001b[0m \u001b[0;34m\u001b[0m\u001b[0m\n",
            "\u001b[0;32m/usr/local/lib/python3.6/dist-packages/tensorflow/python/eager/function.py\u001b[0m in \u001b[0;36m_maybe_define_function\u001b[0;34m(self, args, kwargs)\u001b[0m\n\u001b[1;32m   2775\u001b[0m \u001b[0;34m\u001b[0m\u001b[0m\n\u001b[1;32m   2776\u001b[0m       \u001b[0mself\u001b[0m\u001b[0;34m.\u001b[0m\u001b[0m_function_cache\u001b[0m\u001b[0;34m.\u001b[0m\u001b[0mmissed\u001b[0m\u001b[0;34m.\u001b[0m\u001b[0madd\u001b[0m\u001b[0;34m(\u001b[0m\u001b[0mcall_context_key\u001b[0m\u001b[0;34m)\u001b[0m\u001b[0;34m\u001b[0m\u001b[0;34m\u001b[0m\u001b[0m\n\u001b[0;32m-> 2777\u001b[0;31m       \u001b[0mgraph_function\u001b[0m \u001b[0;34m=\u001b[0m \u001b[0mself\u001b[0m\u001b[0;34m.\u001b[0m\u001b[0m_create_graph_function\u001b[0m\u001b[0;34m(\u001b[0m\u001b[0margs\u001b[0m\u001b[0;34m,\u001b[0m \u001b[0mkwargs\u001b[0m\u001b[0;34m)\u001b[0m\u001b[0;34m\u001b[0m\u001b[0;34m\u001b[0m\u001b[0m\n\u001b[0m\u001b[1;32m   2778\u001b[0m       \u001b[0mself\u001b[0m\u001b[0;34m.\u001b[0m\u001b[0m_function_cache\u001b[0m\u001b[0;34m.\u001b[0m\u001b[0mprimary\u001b[0m\u001b[0;34m[\u001b[0m\u001b[0mcache_key\u001b[0m\u001b[0;34m]\u001b[0m \u001b[0;34m=\u001b[0m \u001b[0mgraph_function\u001b[0m\u001b[0;34m\u001b[0m\u001b[0;34m\u001b[0m\u001b[0m\n\u001b[1;32m   2779\u001b[0m       \u001b[0;32mreturn\u001b[0m \u001b[0mgraph_function\u001b[0m\u001b[0;34m,\u001b[0m \u001b[0margs\u001b[0m\u001b[0;34m,\u001b[0m \u001b[0mkwargs\u001b[0m\u001b[0;34m\u001b[0m\u001b[0;34m\u001b[0m\u001b[0m\n",
            "\u001b[0;32m/usr/local/lib/python3.6/dist-packages/tensorflow/python/eager/function.py\u001b[0m in \u001b[0;36m_create_graph_function\u001b[0;34m(self, args, kwargs, override_flat_arg_shapes)\u001b[0m\n\u001b[1;32m   2665\u001b[0m             \u001b[0marg_names\u001b[0m\u001b[0;34m=\u001b[0m\u001b[0marg_names\u001b[0m\u001b[0;34m,\u001b[0m\u001b[0;34m\u001b[0m\u001b[0;34m\u001b[0m\u001b[0m\n\u001b[1;32m   2666\u001b[0m             \u001b[0moverride_flat_arg_shapes\u001b[0m\u001b[0;34m=\u001b[0m\u001b[0moverride_flat_arg_shapes\u001b[0m\u001b[0;34m,\u001b[0m\u001b[0;34m\u001b[0m\u001b[0;34m\u001b[0m\u001b[0m\n\u001b[0;32m-> 2667\u001b[0;31m             capture_by_value=self._capture_by_value),\n\u001b[0m\u001b[1;32m   2668\u001b[0m         \u001b[0mself\u001b[0m\u001b[0;34m.\u001b[0m\u001b[0m_function_attributes\u001b[0m\u001b[0;34m,\u001b[0m\u001b[0;34m\u001b[0m\u001b[0;34m\u001b[0m\u001b[0m\n\u001b[1;32m   2669\u001b[0m         \u001b[0;31m# Tell the ConcreteFunction to clean up its graph once it goes out of\u001b[0m\u001b[0;34m\u001b[0m\u001b[0;34m\u001b[0m\u001b[0;34m\u001b[0m\u001b[0m\n",
            "\u001b[0;32m/usr/local/lib/python3.6/dist-packages/tensorflow/python/framework/func_graph.py\u001b[0m in \u001b[0;36mfunc_graph_from_py_func\u001b[0;34m(name, python_func, args, kwargs, signature, func_graph, autograph, autograph_options, add_control_dependencies, arg_names, op_return_value, collections, capture_by_value, override_flat_arg_shapes)\u001b[0m\n\u001b[1;32m    979\u001b[0m         \u001b[0m_\u001b[0m\u001b[0;34m,\u001b[0m \u001b[0moriginal_func\u001b[0m \u001b[0;34m=\u001b[0m \u001b[0mtf_decorator\u001b[0m\u001b[0;34m.\u001b[0m\u001b[0munwrap\u001b[0m\u001b[0;34m(\u001b[0m\u001b[0mpython_func\u001b[0m\u001b[0;34m)\u001b[0m\u001b[0;34m\u001b[0m\u001b[0;34m\u001b[0m\u001b[0m\n\u001b[1;32m    980\u001b[0m \u001b[0;34m\u001b[0m\u001b[0m\n\u001b[0;32m--> 981\u001b[0;31m       \u001b[0mfunc_outputs\u001b[0m \u001b[0;34m=\u001b[0m \u001b[0mpython_func\u001b[0m\u001b[0;34m(\u001b[0m\u001b[0;34m*\u001b[0m\u001b[0mfunc_args\u001b[0m\u001b[0;34m,\u001b[0m \u001b[0;34m**\u001b[0m\u001b[0mfunc_kwargs\u001b[0m\u001b[0;34m)\u001b[0m\u001b[0;34m\u001b[0m\u001b[0;34m\u001b[0m\u001b[0m\n\u001b[0m\u001b[1;32m    982\u001b[0m \u001b[0;34m\u001b[0m\u001b[0m\n\u001b[1;32m    983\u001b[0m       \u001b[0;31m# invariant: `func_outputs` contains only Tensors, CompositeTensors,\u001b[0m\u001b[0;34m\u001b[0m\u001b[0;34m\u001b[0m\u001b[0;34m\u001b[0m\u001b[0m\n",
            "\u001b[0;32m/usr/local/lib/python3.6/dist-packages/tensorflow/python/eager/def_function.py\u001b[0m in \u001b[0;36mwrapped_fn\u001b[0;34m(*args, **kwds)\u001b[0m\n\u001b[1;32m    439\u001b[0m         \u001b[0;31m# __wrapped__ allows AutoGraph to swap in a converted function. We give\u001b[0m\u001b[0;34m\u001b[0m\u001b[0;34m\u001b[0m\u001b[0;34m\u001b[0m\u001b[0m\n\u001b[1;32m    440\u001b[0m         \u001b[0;31m# the function a weak reference to itself to avoid a reference cycle.\u001b[0m\u001b[0;34m\u001b[0m\u001b[0;34m\u001b[0m\u001b[0;34m\u001b[0m\u001b[0m\n\u001b[0;32m--> 441\u001b[0;31m         \u001b[0;32mreturn\u001b[0m \u001b[0mweak_wrapped_fn\u001b[0m\u001b[0;34m(\u001b[0m\u001b[0;34m)\u001b[0m\u001b[0;34m.\u001b[0m\u001b[0m__wrapped__\u001b[0m\u001b[0;34m(\u001b[0m\u001b[0;34m*\u001b[0m\u001b[0margs\u001b[0m\u001b[0;34m,\u001b[0m \u001b[0;34m**\u001b[0m\u001b[0mkwds\u001b[0m\u001b[0;34m)\u001b[0m\u001b[0;34m\u001b[0m\u001b[0;34m\u001b[0m\u001b[0m\n\u001b[0m\u001b[1;32m    442\u001b[0m     \u001b[0mweak_wrapped_fn\u001b[0m \u001b[0;34m=\u001b[0m \u001b[0mweakref\u001b[0m\u001b[0;34m.\u001b[0m\u001b[0mref\u001b[0m\u001b[0;34m(\u001b[0m\u001b[0mwrapped_fn\u001b[0m\u001b[0;34m)\u001b[0m\u001b[0;34m\u001b[0m\u001b[0;34m\u001b[0m\u001b[0m\n\u001b[1;32m    443\u001b[0m \u001b[0;34m\u001b[0m\u001b[0m\n",
            "\u001b[0;32m/usr/local/lib/python3.6/dist-packages/tensorflow/python/framework/func_graph.py\u001b[0m in \u001b[0;36mwrapper\u001b[0;34m(*args, **kwargs)\u001b[0m\n\u001b[1;32m    966\u001b[0m           \u001b[0;32mexcept\u001b[0m \u001b[0mException\u001b[0m \u001b[0;32mas\u001b[0m \u001b[0me\u001b[0m\u001b[0;34m:\u001b[0m  \u001b[0;31m# pylint:disable=broad-except\u001b[0m\u001b[0;34m\u001b[0m\u001b[0;34m\u001b[0m\u001b[0m\n\u001b[1;32m    967\u001b[0m             \u001b[0;32mif\u001b[0m \u001b[0mhasattr\u001b[0m\u001b[0;34m(\u001b[0m\u001b[0me\u001b[0m\u001b[0;34m,\u001b[0m \u001b[0;34m\"ag_error_metadata\"\u001b[0m\u001b[0;34m)\u001b[0m\u001b[0;34m:\u001b[0m\u001b[0;34m\u001b[0m\u001b[0;34m\u001b[0m\u001b[0m\n\u001b[0;32m--> 968\u001b[0;31m               \u001b[0;32mraise\u001b[0m \u001b[0me\u001b[0m\u001b[0;34m.\u001b[0m\u001b[0mag_error_metadata\u001b[0m\u001b[0;34m.\u001b[0m\u001b[0mto_exception\u001b[0m\u001b[0;34m(\u001b[0m\u001b[0me\u001b[0m\u001b[0;34m)\u001b[0m\u001b[0;34m\u001b[0m\u001b[0;34m\u001b[0m\u001b[0m\n\u001b[0m\u001b[1;32m    969\u001b[0m             \u001b[0;32melse\u001b[0m\u001b[0;34m:\u001b[0m\u001b[0;34m\u001b[0m\u001b[0;34m\u001b[0m\u001b[0m\n\u001b[1;32m    970\u001b[0m               \u001b[0;32mraise\u001b[0m\u001b[0;34m\u001b[0m\u001b[0;34m\u001b[0m\u001b[0m\n",
            "\u001b[0;31mValueError\u001b[0m: in user code:\n\n    /usr/local/lib/python3.6/dist-packages/tensorflow/python/keras/engine/training.py:571 train_function  *\n        outputs = self.distribute_strategy.run(\n    /usr/local/lib/python3.6/dist-packages/tensorflow/python/distribute/distribute_lib.py:951 run  **\n        return self._extended.call_for_each_replica(fn, args=args, kwargs=kwargs)\n    /usr/local/lib/python3.6/dist-packages/tensorflow/python/distribute/distribute_lib.py:2290 call_for_each_replica\n        return self._call_for_each_replica(fn, args, kwargs)\n    /usr/local/lib/python3.6/dist-packages/tensorflow/python/distribute/distribute_lib.py:2649 _call_for_each_replica\n        return fn(*args, **kwargs)\n    /usr/local/lib/python3.6/dist-packages/tensorflow/python/keras/engine/training.py:533 train_step  **\n        y, y_pred, sample_weight, regularization_losses=self.losses)\n    /usr/local/lib/python3.6/dist-packages/tensorflow/python/keras/engine/compile_utils.py:205 __call__\n        loss_value = loss_obj(y_t, y_p, sample_weight=sw)\n    /usr/local/lib/python3.6/dist-packages/tensorflow/python/keras/losses.py:143 __call__\n        losses = self.call(y_true, y_pred)\n    /usr/local/lib/python3.6/dist-packages/tensorflow/python/keras/losses.py:246 call\n        return self.fn(y_true, y_pred, **self._fn_kwargs)\n    /usr/local/lib/python3.6/dist-packages/tensorflow/python/keras/losses.py:1527 categorical_crossentropy\n        return K.categorical_crossentropy(y_true, y_pred, from_logits=from_logits)\n    /usr/local/lib/python3.6/dist-packages/tensorflow/python/keras/backend.py:4561 categorical_crossentropy\n        target.shape.assert_is_compatible_with(output.shape)\n    /usr/local/lib/python3.6/dist-packages/tensorflow/python/framework/tensor_shape.py:1117 assert_is_compatible_with\n        raise ValueError(\"Shapes %s and %s are incompatible\" % (self, other))\n\n    ValueError: Shapes (500, 10) and (500, 28, 28) are incompatible\n"
          ]
        }
      ]
    },
    {
      "cell_type": "markdown",
      "metadata": {
        "id": "wc-tVkt9uF-L",
        "colab_type": "text"
      },
      "source": [
        "Evaluation on the test set indicates the model is about 95% accurate -- not bad for a first pass on a balanced multi-class prediction problem with only 10 epochs of training."
      ]
    },
    {
      "cell_type": "code",
      "metadata": {
        "id": "suqZuovjuQXd",
        "colab_type": "code",
        "outputId": "427b296d-ace0-4fa2-e4e3-b371af62d19a",
        "colab": {
          "base_uri": "https://localhost:8080/",
          "height": 766
        }
      },
      "source": [
        "score = basic_model.evaluate(x_test, y_test, verbose=0)\n",
        "print(\"Test accuracy:\")\n",
        "print(\"{}%\".format(np.round(100*score[1], 2)))"
      ],
      "execution_count": 0,
      "outputs": [
        {
          "output_type": "error",
          "ename": "ValueError",
          "evalue": "ignored",
          "traceback": [
            "\u001b[0;31m---------------------------------------------------------------------------\u001b[0m",
            "\u001b[0;31mValueError\u001b[0m                                Traceback (most recent call last)",
            "\u001b[0;32m<ipython-input-12-01b34af76057>\u001b[0m in \u001b[0;36m<module>\u001b[0;34m()\u001b[0m\n\u001b[0;32m----> 1\u001b[0;31m \u001b[0mscore\u001b[0m \u001b[0;34m=\u001b[0m \u001b[0mbasic_model\u001b[0m\u001b[0;34m.\u001b[0m\u001b[0mevaluate\u001b[0m\u001b[0;34m(\u001b[0m\u001b[0mx_test\u001b[0m\u001b[0;34m,\u001b[0m \u001b[0my_test\u001b[0m\u001b[0;34m,\u001b[0m \u001b[0mverbose\u001b[0m\u001b[0;34m=\u001b[0m\u001b[0;36m0\u001b[0m\u001b[0;34m)\u001b[0m\u001b[0;34m\u001b[0m\u001b[0;34m\u001b[0m\u001b[0m\n\u001b[0m\u001b[1;32m      2\u001b[0m \u001b[0mprint\u001b[0m\u001b[0;34m(\u001b[0m\u001b[0;34m\"Test accuracy:\"\u001b[0m\u001b[0;34m)\u001b[0m\u001b[0;34m\u001b[0m\u001b[0;34m\u001b[0m\u001b[0m\n\u001b[1;32m      3\u001b[0m \u001b[0mprint\u001b[0m\u001b[0;34m(\u001b[0m\u001b[0;34m\"{}%\"\u001b[0m\u001b[0;34m.\u001b[0m\u001b[0mformat\u001b[0m\u001b[0;34m(\u001b[0m\u001b[0mnp\u001b[0m\u001b[0;34m.\u001b[0m\u001b[0mround\u001b[0m\u001b[0;34m(\u001b[0m\u001b[0;36m100\u001b[0m\u001b[0;34m*\u001b[0m\u001b[0mscore\u001b[0m\u001b[0;34m[\u001b[0m\u001b[0;36m1\u001b[0m\u001b[0;34m]\u001b[0m\u001b[0;34m,\u001b[0m \u001b[0;36m2\u001b[0m\u001b[0;34m)\u001b[0m\u001b[0;34m)\u001b[0m\u001b[0;34m)\u001b[0m\u001b[0;34m\u001b[0m\u001b[0;34m\u001b[0m\u001b[0m\n",
            "\u001b[0;32m/usr/local/lib/python3.6/dist-packages/tensorflow/python/keras/engine/training.py\u001b[0m in \u001b[0;36m_method_wrapper\u001b[0;34m(self, *args, **kwargs)\u001b[0m\n\u001b[1;32m     64\u001b[0m   \u001b[0;32mdef\u001b[0m \u001b[0m_method_wrapper\u001b[0m\u001b[0;34m(\u001b[0m\u001b[0mself\u001b[0m\u001b[0;34m,\u001b[0m \u001b[0;34m*\u001b[0m\u001b[0margs\u001b[0m\u001b[0;34m,\u001b[0m \u001b[0;34m**\u001b[0m\u001b[0mkwargs\u001b[0m\u001b[0;34m)\u001b[0m\u001b[0;34m:\u001b[0m\u001b[0;34m\u001b[0m\u001b[0;34m\u001b[0m\u001b[0m\n\u001b[1;32m     65\u001b[0m     \u001b[0;32mif\u001b[0m \u001b[0;32mnot\u001b[0m \u001b[0mself\u001b[0m\u001b[0;34m.\u001b[0m\u001b[0m_in_multi_worker_mode\u001b[0m\u001b[0;34m(\u001b[0m\u001b[0;34m)\u001b[0m\u001b[0;34m:\u001b[0m  \u001b[0;31m# pylint: disable=protected-access\u001b[0m\u001b[0;34m\u001b[0m\u001b[0;34m\u001b[0m\u001b[0m\n\u001b[0;32m---> 66\u001b[0;31m       \u001b[0;32mreturn\u001b[0m \u001b[0mmethod\u001b[0m\u001b[0;34m(\u001b[0m\u001b[0mself\u001b[0m\u001b[0;34m,\u001b[0m \u001b[0;34m*\u001b[0m\u001b[0margs\u001b[0m\u001b[0;34m,\u001b[0m \u001b[0;34m**\u001b[0m\u001b[0mkwargs\u001b[0m\u001b[0;34m)\u001b[0m\u001b[0;34m\u001b[0m\u001b[0;34m\u001b[0m\u001b[0m\n\u001b[0m\u001b[1;32m     67\u001b[0m \u001b[0;34m\u001b[0m\u001b[0m\n\u001b[1;32m     68\u001b[0m     \u001b[0;31m# Running inside `run_distribute_coordinator` already.\u001b[0m\u001b[0;34m\u001b[0m\u001b[0;34m\u001b[0m\u001b[0;34m\u001b[0m\u001b[0m\n",
            "\u001b[0;32m/usr/local/lib/python3.6/dist-packages/tensorflow/python/keras/engine/training.py\u001b[0m in \u001b[0;36mevaluate\u001b[0;34m(self, x, y, batch_size, verbose, sample_weight, steps, callbacks, max_queue_size, workers, use_multiprocessing, return_dict)\u001b[0m\n\u001b[1;32m   1079\u001b[0m                 step_num=step):\n\u001b[1;32m   1080\u001b[0m               \u001b[0mcallbacks\u001b[0m\u001b[0;34m.\u001b[0m\u001b[0mon_test_batch_begin\u001b[0m\u001b[0;34m(\u001b[0m\u001b[0mstep\u001b[0m\u001b[0;34m)\u001b[0m\u001b[0;34m\u001b[0m\u001b[0;34m\u001b[0m\u001b[0m\n\u001b[0;32m-> 1081\u001b[0;31m               \u001b[0mtmp_logs\u001b[0m \u001b[0;34m=\u001b[0m \u001b[0mtest_function\u001b[0m\u001b[0;34m(\u001b[0m\u001b[0miterator\u001b[0m\u001b[0;34m)\u001b[0m\u001b[0;34m\u001b[0m\u001b[0;34m\u001b[0m\u001b[0m\n\u001b[0m\u001b[1;32m   1082\u001b[0m               \u001b[0;31m# Catch OutOfRangeError for Datasets of unknown size.\u001b[0m\u001b[0;34m\u001b[0m\u001b[0;34m\u001b[0m\u001b[0;34m\u001b[0m\u001b[0m\n\u001b[1;32m   1083\u001b[0m               \u001b[0;31m# This blocks until the batch has finished executing.\u001b[0m\u001b[0;34m\u001b[0m\u001b[0;34m\u001b[0m\u001b[0;34m\u001b[0m\u001b[0m\n",
            "\u001b[0;32m/usr/local/lib/python3.6/dist-packages/tensorflow/python/eager/def_function.py\u001b[0m in \u001b[0;36m__call__\u001b[0;34m(self, *args, **kwds)\u001b[0m\n\u001b[1;32m    578\u001b[0m         \u001b[0mxla_context\u001b[0m\u001b[0;34m.\u001b[0m\u001b[0mExit\u001b[0m\u001b[0;34m(\u001b[0m\u001b[0;34m)\u001b[0m\u001b[0;34m\u001b[0m\u001b[0;34m\u001b[0m\u001b[0m\n\u001b[1;32m    579\u001b[0m     \u001b[0;32melse\u001b[0m\u001b[0;34m:\u001b[0m\u001b[0;34m\u001b[0m\u001b[0;34m\u001b[0m\u001b[0m\n\u001b[0;32m--> 580\u001b[0;31m       \u001b[0mresult\u001b[0m \u001b[0;34m=\u001b[0m \u001b[0mself\u001b[0m\u001b[0;34m.\u001b[0m\u001b[0m_call\u001b[0m\u001b[0;34m(\u001b[0m\u001b[0;34m*\u001b[0m\u001b[0margs\u001b[0m\u001b[0;34m,\u001b[0m \u001b[0;34m**\u001b[0m\u001b[0mkwds\u001b[0m\u001b[0;34m)\u001b[0m\u001b[0;34m\u001b[0m\u001b[0;34m\u001b[0m\u001b[0m\n\u001b[0m\u001b[1;32m    581\u001b[0m \u001b[0;34m\u001b[0m\u001b[0m\n\u001b[1;32m    582\u001b[0m     \u001b[0;32mif\u001b[0m \u001b[0mtracing_count\u001b[0m \u001b[0;34m==\u001b[0m \u001b[0mself\u001b[0m\u001b[0;34m.\u001b[0m\u001b[0m_get_tracing_count\u001b[0m\u001b[0;34m(\u001b[0m\u001b[0;34m)\u001b[0m\u001b[0;34m:\u001b[0m\u001b[0;34m\u001b[0m\u001b[0;34m\u001b[0m\u001b[0m\n",
            "\u001b[0;32m/usr/local/lib/python3.6/dist-packages/tensorflow/python/eager/def_function.py\u001b[0m in \u001b[0;36m_call\u001b[0;34m(self, *args, **kwds)\u001b[0m\n\u001b[1;32m    625\u001b[0m       \u001b[0;31m# This is the first call of __call__, so we have to initialize.\u001b[0m\u001b[0;34m\u001b[0m\u001b[0;34m\u001b[0m\u001b[0;34m\u001b[0m\u001b[0m\n\u001b[1;32m    626\u001b[0m       \u001b[0minitializers\u001b[0m \u001b[0;34m=\u001b[0m \u001b[0;34m[\u001b[0m\u001b[0;34m]\u001b[0m\u001b[0;34m\u001b[0m\u001b[0;34m\u001b[0m\u001b[0m\n\u001b[0;32m--> 627\u001b[0;31m       \u001b[0mself\u001b[0m\u001b[0;34m.\u001b[0m\u001b[0m_initialize\u001b[0m\u001b[0;34m(\u001b[0m\u001b[0margs\u001b[0m\u001b[0;34m,\u001b[0m \u001b[0mkwds\u001b[0m\u001b[0;34m,\u001b[0m \u001b[0madd_initializers_to\u001b[0m\u001b[0;34m=\u001b[0m\u001b[0minitializers\u001b[0m\u001b[0;34m)\u001b[0m\u001b[0;34m\u001b[0m\u001b[0;34m\u001b[0m\u001b[0m\n\u001b[0m\u001b[1;32m    628\u001b[0m     \u001b[0;32mfinally\u001b[0m\u001b[0;34m:\u001b[0m\u001b[0;34m\u001b[0m\u001b[0;34m\u001b[0m\u001b[0m\n\u001b[1;32m    629\u001b[0m       \u001b[0;31m# At this point we know that the initialization is complete (or less\u001b[0m\u001b[0;34m\u001b[0m\u001b[0;34m\u001b[0m\u001b[0;34m\u001b[0m\u001b[0m\n",
            "\u001b[0;32m/usr/local/lib/python3.6/dist-packages/tensorflow/python/eager/def_function.py\u001b[0m in \u001b[0;36m_initialize\u001b[0;34m(self, args, kwds, add_initializers_to)\u001b[0m\n\u001b[1;32m    504\u001b[0m     self._concrete_stateful_fn = (\n\u001b[1;32m    505\u001b[0m         self._stateful_fn._get_concrete_function_internal_garbage_collected(  # pylint: disable=protected-access\n\u001b[0;32m--> 506\u001b[0;31m             *args, **kwds))\n\u001b[0m\u001b[1;32m    507\u001b[0m \u001b[0;34m\u001b[0m\u001b[0m\n\u001b[1;32m    508\u001b[0m     \u001b[0;32mdef\u001b[0m \u001b[0minvalid_creator_scope\u001b[0m\u001b[0;34m(\u001b[0m\u001b[0;34m*\u001b[0m\u001b[0munused_args\u001b[0m\u001b[0;34m,\u001b[0m \u001b[0;34m**\u001b[0m\u001b[0munused_kwds\u001b[0m\u001b[0;34m)\u001b[0m\u001b[0;34m:\u001b[0m\u001b[0;34m\u001b[0m\u001b[0;34m\u001b[0m\u001b[0m\n",
            "\u001b[0;32m/usr/local/lib/python3.6/dist-packages/tensorflow/python/eager/function.py\u001b[0m in \u001b[0;36m_get_concrete_function_internal_garbage_collected\u001b[0;34m(self, *args, **kwargs)\u001b[0m\n\u001b[1;32m   2444\u001b[0m       \u001b[0margs\u001b[0m\u001b[0;34m,\u001b[0m \u001b[0mkwargs\u001b[0m \u001b[0;34m=\u001b[0m \u001b[0;32mNone\u001b[0m\u001b[0;34m,\u001b[0m \u001b[0;32mNone\u001b[0m\u001b[0;34m\u001b[0m\u001b[0;34m\u001b[0m\u001b[0m\n\u001b[1;32m   2445\u001b[0m     \u001b[0;32mwith\u001b[0m \u001b[0mself\u001b[0m\u001b[0;34m.\u001b[0m\u001b[0m_lock\u001b[0m\u001b[0;34m:\u001b[0m\u001b[0;34m\u001b[0m\u001b[0;34m\u001b[0m\u001b[0m\n\u001b[0;32m-> 2446\u001b[0;31m       \u001b[0mgraph_function\u001b[0m\u001b[0;34m,\u001b[0m \u001b[0m_\u001b[0m\u001b[0;34m,\u001b[0m \u001b[0m_\u001b[0m \u001b[0;34m=\u001b[0m \u001b[0mself\u001b[0m\u001b[0;34m.\u001b[0m\u001b[0m_maybe_define_function\u001b[0m\u001b[0;34m(\u001b[0m\u001b[0margs\u001b[0m\u001b[0;34m,\u001b[0m \u001b[0mkwargs\u001b[0m\u001b[0;34m)\u001b[0m\u001b[0;34m\u001b[0m\u001b[0;34m\u001b[0m\u001b[0m\n\u001b[0m\u001b[1;32m   2447\u001b[0m     \u001b[0;32mreturn\u001b[0m \u001b[0mgraph_function\u001b[0m\u001b[0;34m\u001b[0m\u001b[0;34m\u001b[0m\u001b[0m\n\u001b[1;32m   2448\u001b[0m \u001b[0;34m\u001b[0m\u001b[0m\n",
            "\u001b[0;32m/usr/local/lib/python3.6/dist-packages/tensorflow/python/eager/function.py\u001b[0m in \u001b[0;36m_maybe_define_function\u001b[0;34m(self, args, kwargs)\u001b[0m\n\u001b[1;32m   2775\u001b[0m \u001b[0;34m\u001b[0m\u001b[0m\n\u001b[1;32m   2776\u001b[0m       \u001b[0mself\u001b[0m\u001b[0;34m.\u001b[0m\u001b[0m_function_cache\u001b[0m\u001b[0;34m.\u001b[0m\u001b[0mmissed\u001b[0m\u001b[0;34m.\u001b[0m\u001b[0madd\u001b[0m\u001b[0;34m(\u001b[0m\u001b[0mcall_context_key\u001b[0m\u001b[0;34m)\u001b[0m\u001b[0;34m\u001b[0m\u001b[0;34m\u001b[0m\u001b[0m\n\u001b[0;32m-> 2777\u001b[0;31m       \u001b[0mgraph_function\u001b[0m \u001b[0;34m=\u001b[0m \u001b[0mself\u001b[0m\u001b[0;34m.\u001b[0m\u001b[0m_create_graph_function\u001b[0m\u001b[0;34m(\u001b[0m\u001b[0margs\u001b[0m\u001b[0;34m,\u001b[0m \u001b[0mkwargs\u001b[0m\u001b[0;34m)\u001b[0m\u001b[0;34m\u001b[0m\u001b[0;34m\u001b[0m\u001b[0m\n\u001b[0m\u001b[1;32m   2778\u001b[0m       \u001b[0mself\u001b[0m\u001b[0;34m.\u001b[0m\u001b[0m_function_cache\u001b[0m\u001b[0;34m.\u001b[0m\u001b[0mprimary\u001b[0m\u001b[0;34m[\u001b[0m\u001b[0mcache_key\u001b[0m\u001b[0;34m]\u001b[0m \u001b[0;34m=\u001b[0m \u001b[0mgraph_function\u001b[0m\u001b[0;34m\u001b[0m\u001b[0;34m\u001b[0m\u001b[0m\n\u001b[1;32m   2779\u001b[0m       \u001b[0;32mreturn\u001b[0m \u001b[0mgraph_function\u001b[0m\u001b[0;34m,\u001b[0m \u001b[0margs\u001b[0m\u001b[0;34m,\u001b[0m \u001b[0mkwargs\u001b[0m\u001b[0;34m\u001b[0m\u001b[0;34m\u001b[0m\u001b[0m\n",
            "\u001b[0;32m/usr/local/lib/python3.6/dist-packages/tensorflow/python/eager/function.py\u001b[0m in \u001b[0;36m_create_graph_function\u001b[0;34m(self, args, kwargs, override_flat_arg_shapes)\u001b[0m\n\u001b[1;32m   2665\u001b[0m             \u001b[0marg_names\u001b[0m\u001b[0;34m=\u001b[0m\u001b[0marg_names\u001b[0m\u001b[0;34m,\u001b[0m\u001b[0;34m\u001b[0m\u001b[0;34m\u001b[0m\u001b[0m\n\u001b[1;32m   2666\u001b[0m             \u001b[0moverride_flat_arg_shapes\u001b[0m\u001b[0;34m=\u001b[0m\u001b[0moverride_flat_arg_shapes\u001b[0m\u001b[0;34m,\u001b[0m\u001b[0;34m\u001b[0m\u001b[0;34m\u001b[0m\u001b[0m\n\u001b[0;32m-> 2667\u001b[0;31m             capture_by_value=self._capture_by_value),\n\u001b[0m\u001b[1;32m   2668\u001b[0m         \u001b[0mself\u001b[0m\u001b[0;34m.\u001b[0m\u001b[0m_function_attributes\u001b[0m\u001b[0;34m,\u001b[0m\u001b[0;34m\u001b[0m\u001b[0;34m\u001b[0m\u001b[0m\n\u001b[1;32m   2669\u001b[0m         \u001b[0;31m# Tell the ConcreteFunction to clean up its graph once it goes out of\u001b[0m\u001b[0;34m\u001b[0m\u001b[0;34m\u001b[0m\u001b[0;34m\u001b[0m\u001b[0m\n",
            "\u001b[0;32m/usr/local/lib/python3.6/dist-packages/tensorflow/python/framework/func_graph.py\u001b[0m in \u001b[0;36mfunc_graph_from_py_func\u001b[0;34m(name, python_func, args, kwargs, signature, func_graph, autograph, autograph_options, add_control_dependencies, arg_names, op_return_value, collections, capture_by_value, override_flat_arg_shapes)\u001b[0m\n\u001b[1;32m    979\u001b[0m         \u001b[0m_\u001b[0m\u001b[0;34m,\u001b[0m \u001b[0moriginal_func\u001b[0m \u001b[0;34m=\u001b[0m \u001b[0mtf_decorator\u001b[0m\u001b[0;34m.\u001b[0m\u001b[0munwrap\u001b[0m\u001b[0;34m(\u001b[0m\u001b[0mpython_func\u001b[0m\u001b[0;34m)\u001b[0m\u001b[0;34m\u001b[0m\u001b[0;34m\u001b[0m\u001b[0m\n\u001b[1;32m    980\u001b[0m \u001b[0;34m\u001b[0m\u001b[0m\n\u001b[0;32m--> 981\u001b[0;31m       \u001b[0mfunc_outputs\u001b[0m \u001b[0;34m=\u001b[0m \u001b[0mpython_func\u001b[0m\u001b[0;34m(\u001b[0m\u001b[0;34m*\u001b[0m\u001b[0mfunc_args\u001b[0m\u001b[0;34m,\u001b[0m \u001b[0;34m**\u001b[0m\u001b[0mfunc_kwargs\u001b[0m\u001b[0;34m)\u001b[0m\u001b[0;34m\u001b[0m\u001b[0;34m\u001b[0m\u001b[0m\n\u001b[0m\u001b[1;32m    982\u001b[0m \u001b[0;34m\u001b[0m\u001b[0m\n\u001b[1;32m    983\u001b[0m       \u001b[0;31m# invariant: `func_outputs` contains only Tensors, CompositeTensors,\u001b[0m\u001b[0;34m\u001b[0m\u001b[0;34m\u001b[0m\u001b[0;34m\u001b[0m\u001b[0m\n",
            "\u001b[0;32m/usr/local/lib/python3.6/dist-packages/tensorflow/python/eager/def_function.py\u001b[0m in \u001b[0;36mwrapped_fn\u001b[0;34m(*args, **kwds)\u001b[0m\n\u001b[1;32m    439\u001b[0m         \u001b[0;31m# __wrapped__ allows AutoGraph to swap in a converted function. We give\u001b[0m\u001b[0;34m\u001b[0m\u001b[0;34m\u001b[0m\u001b[0;34m\u001b[0m\u001b[0m\n\u001b[1;32m    440\u001b[0m         \u001b[0;31m# the function a weak reference to itself to avoid a reference cycle.\u001b[0m\u001b[0;34m\u001b[0m\u001b[0;34m\u001b[0m\u001b[0;34m\u001b[0m\u001b[0m\n\u001b[0;32m--> 441\u001b[0;31m         \u001b[0;32mreturn\u001b[0m \u001b[0mweak_wrapped_fn\u001b[0m\u001b[0;34m(\u001b[0m\u001b[0;34m)\u001b[0m\u001b[0;34m.\u001b[0m\u001b[0m__wrapped__\u001b[0m\u001b[0;34m(\u001b[0m\u001b[0;34m*\u001b[0m\u001b[0margs\u001b[0m\u001b[0;34m,\u001b[0m \u001b[0;34m**\u001b[0m\u001b[0mkwds\u001b[0m\u001b[0;34m)\u001b[0m\u001b[0;34m\u001b[0m\u001b[0;34m\u001b[0m\u001b[0m\n\u001b[0m\u001b[1;32m    442\u001b[0m     \u001b[0mweak_wrapped_fn\u001b[0m \u001b[0;34m=\u001b[0m \u001b[0mweakref\u001b[0m\u001b[0;34m.\u001b[0m\u001b[0mref\u001b[0m\u001b[0;34m(\u001b[0m\u001b[0mwrapped_fn\u001b[0m\u001b[0;34m)\u001b[0m\u001b[0;34m\u001b[0m\u001b[0;34m\u001b[0m\u001b[0m\n\u001b[1;32m    443\u001b[0m \u001b[0;34m\u001b[0m\u001b[0m\n",
            "\u001b[0;32m/usr/local/lib/python3.6/dist-packages/tensorflow/python/framework/func_graph.py\u001b[0m in \u001b[0;36mwrapper\u001b[0;34m(*args, **kwargs)\u001b[0m\n\u001b[1;32m    966\u001b[0m           \u001b[0;32mexcept\u001b[0m \u001b[0mException\u001b[0m \u001b[0;32mas\u001b[0m \u001b[0me\u001b[0m\u001b[0;34m:\u001b[0m  \u001b[0;31m# pylint:disable=broad-except\u001b[0m\u001b[0;34m\u001b[0m\u001b[0;34m\u001b[0m\u001b[0m\n\u001b[1;32m    967\u001b[0m             \u001b[0;32mif\u001b[0m \u001b[0mhasattr\u001b[0m\u001b[0;34m(\u001b[0m\u001b[0me\u001b[0m\u001b[0;34m,\u001b[0m \u001b[0;34m\"ag_error_metadata\"\u001b[0m\u001b[0;34m)\u001b[0m\u001b[0;34m:\u001b[0m\u001b[0;34m\u001b[0m\u001b[0;34m\u001b[0m\u001b[0m\n\u001b[0;32m--> 968\u001b[0;31m               \u001b[0;32mraise\u001b[0m \u001b[0me\u001b[0m\u001b[0;34m.\u001b[0m\u001b[0mag_error_metadata\u001b[0m\u001b[0;34m.\u001b[0m\u001b[0mto_exception\u001b[0m\u001b[0;34m(\u001b[0m\u001b[0me\u001b[0m\u001b[0;34m)\u001b[0m\u001b[0;34m\u001b[0m\u001b[0;34m\u001b[0m\u001b[0m\n\u001b[0m\u001b[1;32m    969\u001b[0m             \u001b[0;32melse\u001b[0m\u001b[0;34m:\u001b[0m\u001b[0;34m\u001b[0m\u001b[0;34m\u001b[0m\u001b[0m\n\u001b[1;32m    970\u001b[0m               \u001b[0;32mraise\u001b[0m\u001b[0;34m\u001b[0m\u001b[0;34m\u001b[0m\u001b[0m\n",
            "\u001b[0;31mValueError\u001b[0m: in user code:\n\n    /usr/local/lib/python3.6/dist-packages/tensorflow/python/keras/engine/training.py:941 test_function  *\n        outputs = self.distribute_strategy.run(\n    /usr/local/lib/python3.6/dist-packages/tensorflow/python/distribute/distribute_lib.py:951 run  **\n        return self._extended.call_for_each_replica(fn, args=args, kwargs=kwargs)\n    /usr/local/lib/python3.6/dist-packages/tensorflow/python/distribute/distribute_lib.py:2290 call_for_each_replica\n        return self._call_for_each_replica(fn, args, kwargs)\n    /usr/local/lib/python3.6/dist-packages/tensorflow/python/distribute/distribute_lib.py:2649 _call_for_each_replica\n        return fn(*args, **kwargs)\n    /usr/local/lib/python3.6/dist-packages/tensorflow/python/keras/engine/training.py:912 test_step  **\n        y, y_pred, sample_weight, regularization_losses=self.losses)\n    /usr/local/lib/python3.6/dist-packages/tensorflow/python/keras/engine/compile_utils.py:205 __call__\n        loss_value = loss_obj(y_t, y_p, sample_weight=sw)\n    /usr/local/lib/python3.6/dist-packages/tensorflow/python/keras/losses.py:143 __call__\n        losses = self.call(y_true, y_pred)\n    /usr/local/lib/python3.6/dist-packages/tensorflow/python/keras/losses.py:246 call\n        return self.fn(y_true, y_pred, **self._fn_kwargs)\n    /usr/local/lib/python3.6/dist-packages/tensorflow/python/keras/losses.py:1527 categorical_crossentropy\n        return K.categorical_crossentropy(y_true, y_pred, from_logits=from_logits)\n    /usr/local/lib/python3.6/dist-packages/tensorflow/python/keras/backend.py:4561 categorical_crossentropy\n        target.shape.assert_is_compatible_with(output.shape)\n    /usr/local/lib/python3.6/dist-packages/tensorflow/python/framework/tensor_shape.py:1117 assert_is_compatible_with\n        raise ValueError(\"Shapes %s and %s are incompatible\" % (self, other))\n\n    ValueError: Shapes (None, 10) and (None, 28, 28) are incompatible\n"
          ]
        }
      ]
    },
    {
      "cell_type": "markdown",
      "metadata": {
        "id": "1xst2cKfuXWs",
        "colab_type": "text"
      },
      "source": [
        "Let's look at a few misclassified examples. Although there'll be variation due to the random selection of examples, there's a mixed bag of understandable confusion and bad misses here."
      ]
    },
    {
      "cell_type": "code",
      "metadata": {
        "id": "2DPToYLeuhPG",
        "colab_type": "code",
        "outputId": "957409be-7c91-40ee-a70a-486f51f9b31c",
        "colab": {
          "base_uri": "https://localhost:8080/",
          "height": 530
        }
      },
      "source": [
        "# Get predicted classes.\n",
        "preds = basic_model.predict_classes(x_test)\n",
        "print(preds)\n",
        "\n",
        "# Prepare a figure for subplotting.\n",
        "fig = plt.figure(figsize=(12, 6))\n",
        "\n",
        "# Select one random misclass for each digit in the data set.\n",
        "for i in range(10):\n",
        "    ind = np.random.choice(np.ndarray.flatten(np.argwhere((raw_y_test == i) & (raw_y_test != preds))))\n",
        "    actual = raw_y_test[ind]\n",
        "    predicted = preds[ind]\n",
        "    plottable_image = np.reshape(x_test[ind], (28, 28))\n",
        "    ax = fig.add_subplot(2, 5, i+1)\n",
        "    ax.imshow(plottable_image, cmap='gray_r')\n",
        "    plt.xlabel(\"Actual: \" + \"{}\".format(actual) + \", Predicted: \" + \"{}\".format(predicted))"
      ],
      "execution_count": 0,
      "outputs": [
        {
          "output_type": "stream",
          "text": [
            "[[ 0  0  0 ... 11 11  0]\n",
            " [ 0  0  0 ...  0  0  0]\n",
            " [ 0  0  0 ...  0  0  0]\n",
            " ...\n",
            " [ 0  0  0 ... 11  0  0]\n",
            " [ 0  0  0 ...  0  0  0]\n",
            " [ 0  0 19 ...  0  0  0]]\n"
          ],
          "name": "stdout"
        },
        {
          "output_type": "stream",
          "text": [
            "/usr/local/lib/python3.6/dist-packages/ipykernel_launcher.py:10: DeprecationWarning: elementwise comparison failed; this will raise an error in the future.\n",
            "  # Remove the CWD from sys.path while we load stuff.\n"
          ],
          "name": "stderr"
        },
        {
          "output_type": "display_data",
          "data": {
            "image/png": "[encoded data removed]",
            "text/plain": [
              "<Figure size 864x432 with 10 Axes>"
            ]
          },
          "metadata": {
            "tags": [],
            "needs_background": "light"
          }
        }
      ]
    },
    {
      "cell_type": "markdown",
      "metadata": {
        "id": "Lt_xUVoA7VGR",
        "colab_type": "text"
      },
      "source": [
        "### Importance of scaling features\n",
        "\n",
        "Unscaled features can result in numerical instability in the gradient during the fitting process, slowing convergence and drgrading performance. Let's rescale the features to lie between 0 and 1 and refit the model."
      ]
    },
    {
      "cell_type": "code",
      "metadata": {
        "id": "FPDJtXCg7ak3",
        "colab_type": "code",
        "outputId": "70e389a5-42a6-4ec7-b334-d7b6ff58d027",
        "colab": {
          "base_uri": "https://localhost:8080/",
          "height": 357
        }
      },
      "source": [
        "# General rescaling: (x - min(x))/(max(x) - min(x))\n",
        "# In this dataset, grayscale values lie between 0 and 255. \n",
        "# Thus, rescaling is easy:\n",
        "x_train_scl = x_train / 255.0\n",
        "x_test_scl = x_test / 255.0\n",
        "\n",
        "scaled_model = Sequential()\n",
        "scaled_model.add(Flatten(input_shape = (28,28)))\n",
        "scaled_model.add(Dense(units = 128))\n",
        "scaled_model.add(Activation(activation = 'relu'))\n",
        "scaled_model.add(Dense(units = 10))\n",
        "scaled_model.add(Activation(activation = 'softmax'))\n",
        "\n",
        "scaled_model.compile(optimizer = 'adam',\n",
        "              loss = loss_fn,\n",
        "              metrics = ['accuracy'])\n",
        "\n",
        "history = scaled_model.fit(x_train_scl, \n",
        "          y_train, \n",
        "          batch_size = batch_size,\n",
        "          epochs=10)"
      ],
      "execution_count": 0,
      "outputs": [
        {
          "output_type": "stream",
          "text": [
            "Epoch 1/10\n",
            "120/120 [==============================] - 1s 9ms/step - loss: 0.5649 - accuracy: 0.8464\n",
            "Epoch 2/10\n",
            "120/120 [==============================] - 1s 8ms/step - loss: 0.2474 - accuracy: 0.9306\n",
            "Epoch 3/10\n",
            "120/120 [==============================] - 1s 8ms/step - loss: 0.1907 - accuracy: 0.9466\n",
            "Epoch 4/10\n",
            "120/120 [==============================] - 1s 8ms/step - loss: 0.1559 - accuracy: 0.9561\n",
            "Epoch 5/10\n",
            "120/120 [==============================] - 1s 8ms/step - loss: 0.1321 - accuracy: 0.9624\n",
            "Epoch 6/10\n",
            "120/120 [==============================] - 1s 8ms/step - loss: 0.1126 - accuracy: 0.9687\n",
            "Epoch 7/10\n",
            "120/120 [==============================] - 1s 9ms/step - loss: 0.0994 - accuracy: 0.9726\n",
            "Epoch 8/10\n",
            "120/120 [==============================] - 1s 8ms/step - loss: 0.0885 - accuracy: 0.9753\n",
            "Epoch 9/10\n",
            "120/120 [==============================] - 1s 8ms/step - loss: 0.0792 - accuracy: 0.9774\n",
            "Epoch 10/10\n",
            "120/120 [==============================] - 1s 8ms/step - loss: 0.0710 - accuracy: 0.9801\n"
          ],
          "name": "stdout"
        }
      ]
    },
    {
      "cell_type": "markdown",
      "metadata": {
        "id": "87Yfzc7ez01I",
        "colab_type": "text"
      },
      "source": [
        "First thing to note: the model converged much faster. The training accuracy by the second or third epoch beats the model trained on unscaled data after 10 epochs.\n",
        "\n",
        "The second important thing to note is that the accuracy against the training data is obviously much higher, although we should be careful using this metric because it doesn't generalize meaningfully. Evaluating the model against rescaled test data demonstrates this improvement translates to unseen examples:"
      ]
    },
    {
      "cell_type": "code",
      "metadata": {
        "id": "y3hLapl-z7VJ",
        "colab_type": "code",
        "outputId": "57768799-d40a-4842-cb1f-dd90fcfca0f2",
        "colab": {
          "base_uri": "https://localhost:8080/",
          "height": 51
        }
      },
      "source": [
        "score = scaled_model.evaluate(x_test_scl, y_test, verbose=0)\n",
        "print(\"Test accuracy:\")\n",
        "print(\"{}%\".format(np.round(100*score[1], 2)))"
      ],
      "execution_count": 0,
      "outputs": [
        {
          "output_type": "stream",
          "text": [
            "Test accuracy:\n",
            "97.29%\n"
          ],
          "name": "stdout"
        }
      ]
    },
    {
      "cell_type": "markdown",
      "metadata": {
        "id": "JgJhDxcQ0A57",
        "colab_type": "text"
      },
      "source": [
        "Taking a peek at misclasses:"
      ]
    },
    {
      "cell_type": "code",
      "metadata": {
        "id": "7c_coMWU0P16",
        "colab_type": "code",
        "outputId": "ae2587a1-8341-489e-d9fd-168175dd8d39",
        "colab": {
          "base_uri": "https://localhost:8080/",
          "height": 357
        }
      },
      "source": [
        "# Get predicted classes.\n",
        "preds = scaled_model.predict_classes(x_test)\n",
        "\n",
        "# Prepare a figure for subplotting.\n",
        "fig = plt.figure(figsize=(12, 6))\n",
        "\n",
        "# Select one random misclass for each digit in the data set.\n",
        "for i in range(10):\n",
        "    ind = np.random.choice(np.ndarray.flatten(np.argwhere((raw_y_test == i) & (raw_y_test != preds))))\n",
        "    actual = raw_y_test[ind]\n",
        "    predicted = preds[ind]\n",
        "    plottable_image = np.reshape(x_test[ind], (28, 28))\n",
        "    ax = fig.add_subplot(2, 5, i+1)\n",
        "    ax.imshow(plottable_image, cmap='gray_r')\n",
        "    plt.xlabel(\"Actual: \" + \"{}\".format(actual) + \", Predicted: \" + \"{}\".format(predicted))"
      ],
      "execution_count": 0,
      "outputs": [
        {
          "output_type": "display_data",
          "data": {
            "image/png": "[encoded data removed]",
            "text/plain": [
              "<Figure size 864x432 with 10 Axes>"
            ]
          },
          "metadata": {
            "tags": [],
            "needs_background": "light"
          }
        }
      ]
    },
    {
      "cell_type": "markdown",
      "metadata": {
        "id": "JwuC-5kJ9EcT",
        "colab_type": "text"
      },
      "source": [
        "## __Measuring progress using a validation set__\n",
        "\n",
        "In recognition of the fact that overfitting, that most insidious foe of deep neural networks, can easily happen on complicated problems like this, consider for a moment that we can generally improve training accuracy by increasing the number of epochs. So how do we choose when to stop?\n",
        "\n",
        "\n",
        "This is a job for a validation data set. Holding a small (5-10%) sample of our training data out of the training process enables us to test the out-of-sample accuracy of the model at each epoch. The idea here is to stop training the model when the validation metric starts moving the opposite direction of the training metric. In the case of accuracy, this would mean the training process should stop when the validation accuracy starts decreasing, and vice versa in the case of validation loss.\n",
        "\n",
        "\n",
        "#### Model callbacks\n",
        "\n",
        "In Tensorflow, a __callback__ is a utility called during the training process. They have various purposes, from logging histories to halting the fitting process (see the Tensorflow docs for a [full list of callback options](https://www.tensorflow.org/api_docs/python/tf/keras/callbacks)). One useful callback forces the training process to stop early if a validation metric isn't improving, which we'll use here.\n"
      ]
    },
    {
      "cell_type": "code",
      "metadata": {
        "id": "J_Op3JGJ9A_Z",
        "colab_type": "code",
        "outputId": "9aa6ea5f-fa71-4424-9a68-32d50de40927",
        "colab": {
          "base_uri": "https://localhost:8080/",
          "height": 1000
        }
      },
      "source": [
        "valid_model = Sequential()\n",
        "valid_model.add(Flatten(input_shape=(28, 28)))\n",
        "valid_model.add(Dense(128))\n",
        "valid_model.add(Activation(activation = 'relu'))\n",
        "valid_model.add(Dense(10))\n",
        "valid_model.add(Activation(activation = 'softmax'))\n",
        "\n",
        "valid_model.compile(optimizer = optim,\n",
        "              loss = loss_fn,\n",
        "              metrics = ['accuracy'])\n",
        "\n",
        "# Use a callback to stop the model training once \"patience\" epochs have passed\n",
        "# without improvement in the validation accuracy. In addition, request\n",
        "# that the weights from the best iteration are restored.\n",
        "callback = tf.keras.callbacks.EarlyStopping(monitor='val_accuracy', \n",
        "                                            patience=10,\n",
        "                                            restore_best_weights = True)\n",
        "\n",
        "# Add our callback to the model. Several callbacks could be specified\n",
        "# in a single list!\n",
        "history = valid_model.fit(x_train_scl, \n",
        "          y_train, \n",
        "          batch_size = batch_size,\n",
        "          epochs = 50,\n",
        "          validation_split = 0.1,\n",
        "          callbacks = [callback])"
      ],
      "execution_count": 0,
      "outputs": [
        {
          "output_type": "stream",
          "text": [
            "Epoch 1/50\n",
            "108/108 [==============================] - 1s 12ms/step - loss: 0.6106 - accuracy: 0.8399 - val_loss: 0.2501 - val_accuracy: 0.9298\n",
            "Epoch 2/50\n",
            "108/108 [==============================] - 1s 11ms/step - loss: 0.2659 - accuracy: 0.9258 - val_loss: 0.1866 - val_accuracy: 0.9525\n",
            "Epoch 3/50\n",
            "108/108 [==============================] - 1s 10ms/step - loss: 0.2059 - accuracy: 0.9423 - val_loss: 0.1534 - val_accuracy: 0.9620\n",
            "Epoch 4/50\n",
            "108/108 [==============================] - 1s 10ms/step - loss: 0.1686 - accuracy: 0.9527 - val_loss: 0.1294 - val_accuracy: 0.9663\n",
            "Epoch 5/50\n",
            "108/108 [==============================] - 1s 10ms/step - loss: 0.1430 - accuracy: 0.9597 - val_loss: 0.1169 - val_accuracy: 0.9687\n",
            "Epoch 6/50\n",
            "108/108 [==============================] - 1s 10ms/step - loss: 0.1244 - accuracy: 0.9651 - val_loss: 0.1059 - val_accuracy: 0.9703\n",
            "Epoch 7/50\n",
            "108/108 [==============================] - 1s 10ms/step - loss: 0.1090 - accuracy: 0.9696 - val_loss: 0.1004 - val_accuracy: 0.9737\n",
            "Epoch 8/50\n",
            "108/108 [==============================] - 1s 10ms/step - loss: 0.0968 - accuracy: 0.9731 - val_loss: 0.0930 - val_accuracy: 0.9757\n",
            "Epoch 9/50\n",
            "108/108 [==============================] - 1s 10ms/step - loss: 0.0869 - accuracy: 0.9757 - val_loss: 0.0893 - val_accuracy: 0.9763\n",
            "Epoch 10/50\n",
            "108/108 [==============================] - 1s 10ms/step - loss: 0.0776 - accuracy: 0.9785 - val_loss: 0.0874 - val_accuracy: 0.9760\n",
            "Epoch 11/50\n",
            "108/108 [==============================] - 1s 11ms/step - loss: 0.0703 - accuracy: 0.9807 - val_loss: 0.0824 - val_accuracy: 0.9777\n",
            "Epoch 12/50\n",
            "108/108 [==============================] - 1s 11ms/step - loss: 0.0636 - accuracy: 0.9822 - val_loss: 0.0792 - val_accuracy: 0.9778\n",
            "Epoch 13/50\n",
            "108/108 [==============================] - 1s 10ms/step - loss: 0.0579 - accuracy: 0.9844 - val_loss: 0.0830 - val_accuracy: 0.9775\n",
            "Epoch 14/50\n",
            "108/108 [==============================] - 1s 11ms/step - loss: 0.0536 - accuracy: 0.9857 - val_loss: 0.0758 - val_accuracy: 0.9793\n",
            "Epoch 15/50\n",
            "108/108 [==============================] - 1s 11ms/step - loss: 0.0484 - accuracy: 0.9872 - val_loss: 0.0777 - val_accuracy: 0.9780\n",
            "Epoch 16/50\n",
            "108/108 [==============================] - 1s 11ms/step - loss: 0.0448 - accuracy: 0.9885 - val_loss: 0.0743 - val_accuracy: 0.9783\n",
            "Epoch 17/50\n",
            "108/108 [==============================] - 1s 11ms/step - loss: 0.0409 - accuracy: 0.9893 - val_loss: 0.0741 - val_accuracy: 0.9793\n",
            "Epoch 18/50\n",
            "108/108 [==============================] - 1s 10ms/step - loss: 0.0377 - accuracy: 0.9903 - val_loss: 0.0739 - val_accuracy: 0.9795\n",
            "Epoch 19/50\n",
            "108/108 [==============================] - 1s 10ms/step - loss: 0.0346 - accuracy: 0.9920 - val_loss: 0.0725 - val_accuracy: 0.9800\n",
            "Epoch 20/50\n",
            "108/108 [==============================] - 1s 11ms/step - loss: 0.0316 - accuracy: 0.9924 - val_loss: 0.0730 - val_accuracy: 0.9785\n",
            "Epoch 21/50\n",
            "108/108 [==============================] - 1s 11ms/step - loss: 0.0294 - accuracy: 0.9932 - val_loss: 0.0731 - val_accuracy: 0.9805\n",
            "Epoch 22/50\n",
            "108/108 [==============================] - 1s 10ms/step - loss: 0.0270 - accuracy: 0.9936 - val_loss: 0.0708 - val_accuracy: 0.9800\n",
            "Epoch 23/50\n",
            "108/108 [==============================] - 1s 10ms/step - loss: 0.0246 - accuracy: 0.9950 - val_loss: 0.0706 - val_accuracy: 0.9803\n",
            "Epoch 24/50\n",
            "108/108 [==============================] - 1s 11ms/step - loss: 0.0232 - accuracy: 0.9953 - val_loss: 0.0717 - val_accuracy: 0.9800\n",
            "Epoch 25/50\n",
            "108/108 [==============================] - 1s 11ms/step - loss: 0.0211 - accuracy: 0.9958 - val_loss: 0.0717 - val_accuracy: 0.9810\n",
            "Epoch 26/50\n",
            "108/108 [==============================] - 1s 12ms/step - loss: 0.0194 - accuracy: 0.9964 - val_loss: 0.0731 - val_accuracy: 0.9783\n",
            "Epoch 27/50\n",
            "108/108 [==============================] - 1s 12ms/step - loss: 0.0180 - accuracy: 0.9967 - val_loss: 0.0721 - val_accuracy: 0.9793\n",
            "Epoch 28/50\n",
            "108/108 [==============================] - 1s 11ms/step - loss: 0.0166 - accuracy: 0.9972 - val_loss: 0.0755 - val_accuracy: 0.9773\n",
            "Epoch 29/50\n",
            "108/108 [==============================] - 1s 10ms/step - loss: 0.0156 - accuracy: 0.9974 - val_loss: 0.0737 - val_accuracy: 0.9800\n",
            "Epoch 30/50\n",
            "108/108 [==============================] - 1s 12ms/step - loss: 0.0138 - accuracy: 0.9981 - val_loss: 0.0728 - val_accuracy: 0.9797\n",
            "Epoch 31/50\n",
            "108/108 [==============================] - 1s 11ms/step - loss: 0.0131 - accuracy: 0.9983 - val_loss: 0.0758 - val_accuracy: 0.9782\n",
            "Epoch 32/50\n",
            "108/108 [==============================] - 1s 11ms/step - loss: 0.0120 - accuracy: 0.9985 - val_loss: 0.0735 - val_accuracy: 0.9800\n",
            "Epoch 33/50\n",
            "108/108 [==============================] - 1s 11ms/step - loss: 0.0109 - accuracy: 0.9988 - val_loss: 0.0737 - val_accuracy: 0.9813\n",
            "Epoch 34/50\n",
            "108/108 [==============================] - 1s 13ms/step - loss: 0.0102 - accuracy: 0.9989 - val_loss: 0.0751 - val_accuracy: 0.9805\n",
            "Epoch 35/50\n",
            "108/108 [==============================] - 1s 12ms/step - loss: 0.0094 - accuracy: 0.9991 - val_loss: 0.0740 - val_accuracy: 0.9813\n",
            "Epoch 36/50\n",
            "108/108 [==============================] - 1s 11ms/step - loss: 0.0087 - accuracy: 0.9992 - val_loss: 0.0760 - val_accuracy: 0.9798\n",
            "Epoch 37/50\n",
            "108/108 [==============================] - 1s 11ms/step - loss: 0.0078 - accuracy: 0.9994 - val_loss: 0.0744 - val_accuracy: 0.9802\n",
            "Epoch 38/50\n",
            "108/108 [==============================] - 1s 11ms/step - loss: 0.0075 - accuracy: 0.9994 - val_loss: 0.0746 - val_accuracy: 0.9810\n",
            "Epoch 39/50\n",
            "108/108 [==============================] - 1s 11ms/step - loss: 0.0069 - accuracy: 0.9995 - val_loss: 0.0769 - val_accuracy: 0.9815\n",
            "Epoch 40/50\n",
            "108/108 [==============================] - 1s 12ms/step - loss: 0.0066 - accuracy: 0.9996 - val_loss: 0.0783 - val_accuracy: 0.9812\n",
            "Epoch 41/50\n",
            "108/108 [==============================] - 1s 11ms/step - loss: 0.0059 - accuracy: 0.9996 - val_loss: 0.0762 - val_accuracy: 0.9803\n",
            "Epoch 42/50\n",
            "108/108 [==============================] - 1s 10ms/step - loss: 0.0054 - accuracy: 0.9996 - val_loss: 0.0788 - val_accuracy: 0.9808\n",
            "Epoch 43/50\n",
            "108/108 [==============================] - 1s 10ms/step - loss: 0.0048 - accuracy: 0.9998 - val_loss: 0.0783 - val_accuracy: 0.9802\n",
            "Epoch 44/50\n",
            "108/108 [==============================] - 1s 10ms/step - loss: 0.0046 - accuracy: 0.9998 - val_loss: 0.0791 - val_accuracy: 0.9810\n",
            "Epoch 45/50\n",
            "108/108 [==============================] - 1s 11ms/step - loss: 0.0043 - accuracy: 0.9998 - val_loss: 0.0811 - val_accuracy: 0.9815\n",
            "Epoch 46/50\n",
            "108/108 [==============================] - 1s 12ms/step - loss: 0.0040 - accuracy: 0.9998 - val_loss: 0.0781 - val_accuracy: 0.9813\n",
            "Epoch 47/50\n",
            "108/108 [==============================] - 1s 13ms/step - loss: 0.0036 - accuracy: 0.9999 - val_loss: 0.0798 - val_accuracy: 0.9808\n",
            "Epoch 48/50\n",
            "108/108 [==============================] - 1s 12ms/step - loss: 0.0034 - accuracy: 0.9999 - val_loss: 0.0810 - val_accuracy: 0.9807\n",
            "Epoch 49/50\n",
            "108/108 [==============================] - 1s 12ms/step - loss: 0.0032 - accuracy: 0.9999 - val_loss: 0.0801 - val_accuracy: 0.9812\n"
          ],
          "name": "stdout"
        }
      ]
    },
    {
      "cell_type": "code",
      "metadata": {
        "id": "b9DIp3dh-m0y",
        "colab_type": "code",
        "outputId": "0e854275-cefb-47b6-f0b8-cd1f994292bb",
        "colab": {
          "base_uri": "https://localhost:8080/",
          "height": 573
        }
      },
      "source": [
        "plt.plot(history.history['accuracy'])\n",
        "plt.plot(history.history['val_accuracy'])\n",
        "plt.title('Model accuracy')\n",
        "plt.ylabel('Accuracy')\n",
        "plt.xlabel('Epoch')\n",
        "plt.legend(['Train', 'Val'], loc='upper left')\n",
        "plt.show()\n",
        "\n",
        "plt.plot(history.history['loss'])\n",
        "plt.plot(history.history['val_loss'])\n",
        "plt.title('Model loss')\n",
        "plt.ylabel('Loss')\n",
        "plt.xlabel('Epoch')\n",
        "plt.legend(['Train', 'Val'], loc='upper left')\n",
        "plt.show()"
      ],
      "execution_count": 0,
      "outputs": [
        {
          "output_type": "display_data",
          "data": {
            "image/png": "[encoded data removed]",
            "text/plain": [
              "<Figure size 432x288 with 1 Axes>"
            ]
          },
          "metadata": {
            "tags": [],
            "needs_background": "light"
          }
        },
        {
          "output_type": "display_data",
          "data": {
            "image/png": "[encoded data removed]",
            "text/plain": [
              "<Figure size 432x288 with 1 Axes>"
            ]
          },
          "metadata": {
            "tags": [],
            "needs_background": "light"
          }
        }
      ]
    },
    {
      "cell_type": "markdown",
      "metadata": {
        "id": "wze3NmCi5mzW",
        "colab_type": "text"
      },
      "source": [
        "As before, we evaluate our model and should discover marginal improvement using early stopping. Depending on the random components of the fitting process, you may be unlucky enough to see no improvement. (In this case, imagine if we had instead trained the model for 100 epochs, or 500 epochs. Alternatively, check with your neighbors and see whether they experienced improvement.)"
      ]
    },
    {
      "cell_type": "code",
      "metadata": {
        "id": "YpZlTcLP5t3w",
        "colab_type": "code",
        "outputId": "6b13b93e-e4ff-4a06-e918-69feca6bd7f1",
        "colab": {
          "base_uri": "https://localhost:8080/",
          "height": 51
        }
      },
      "source": [
        "score = valid_model.evaluate(x_test_scl, y_test, verbose=0)\n",
        "print(\"Test accuracy:\")\n",
        "print(\"{}%\".format(np.round(100*score[1], 2)))"
      ],
      "execution_count": 0,
      "outputs": [
        {
          "output_type": "stream",
          "text": [
            "Test accuracy:\n",
            "97.91%\n"
          ],
          "name": "stdout"
        }
      ]
    },
    {
      "cell_type": "markdown",
      "metadata": {
        "id": "RNrc8s6wpFOv",
        "colab_type": "text"
      },
      "source": [
        "## __Dropout__\n",
        "\n",
        "In spite of our efforts to control overfitting with a validation set, we're hitting perfect classification accuracy on the training data, which suggests overfitting. Let's try to use a `Dropout` layer to fix this small problem."
      ]
    },
    {
      "cell_type": "code",
      "metadata": {
        "id": "qNHS9dPZpa-4",
        "colab_type": "code",
        "outputId": "e92d7f03-3cbc-4add-edb5-842232f36251",
        "colab": {
          "base_uri": "https://localhost:8080/",
          "height": 1000
        }
      },
      "source": [
        "dropout_model = Sequential()\n",
        "dropout_model.add(Flatten(input_shape = (28, 28)))\n",
        "dropout_model.add(Dense(128))\n",
        "dropout_model.add(Activation(activation = 'relu'))\n",
        "dropout_model.add(Dropout(rate = 0.2))\n",
        "dropout_model.add(Dense(10))\n",
        "dropout_model.add(Activation(activation = 'softmax'))\n",
        "\n",
        "dropout_model.compile(optimizer = optim,\n",
        "              loss = loss_fn,\n",
        "              metrics = ['accuracy'])\n",
        "\n",
        "callback = tf.keras.callbacks.EarlyStopping(monitor='val_accuracy', \n",
        "                                            patience = 10,\n",
        "                                            restore_best_weights = True)\n",
        "\n",
        "history = dropout_model.fit(x_train_scl, \n",
        "          y_train, \n",
        "          batch_size = batch_size,\n",
        "          epochs = 50,\n",
        "          validation_split = 0.1,\n",
        "          callbacks = [callback])"
      ],
      "execution_count": 0,
      "outputs": [
        {
          "output_type": "stream",
          "text": [
            "Epoch 1/50\n",
            "108/108 [==============================] - 1s 12ms/step - loss: 0.6689 - accuracy: 0.8089 - val_loss: 0.2538 - val_accuracy: 0.9327\n",
            "Epoch 2/50\n",
            "108/108 [==============================] - 1s 11ms/step - loss: 0.3010 - accuracy: 0.9141 - val_loss: 0.1894 - val_accuracy: 0.9485\n",
            "Epoch 3/50\n",
            "108/108 [==============================] - 1s 11ms/step - loss: 0.2358 - accuracy: 0.9329 - val_loss: 0.1580 - val_accuracy: 0.9570\n",
            "Epoch 4/50\n",
            "108/108 [==============================] - 1s 12ms/step - loss: 0.1983 - accuracy: 0.9426 - val_loss: 0.1326 - val_accuracy: 0.9643\n",
            "Epoch 5/50\n",
            "108/108 [==============================] - 1s 11ms/step - loss: 0.1713 - accuracy: 0.9508 - val_loss: 0.1225 - val_accuracy: 0.9660\n",
            "Epoch 6/50\n",
            "108/108 [==============================] - 1s 11ms/step - loss: 0.1524 - accuracy: 0.9568 - val_loss: 0.1086 - val_accuracy: 0.9702\n",
            "Epoch 7/50\n",
            "108/108 [==============================] - 1s 11ms/step - loss: 0.1348 - accuracy: 0.9615 - val_loss: 0.0985 - val_accuracy: 0.9725\n",
            "Epoch 8/50\n",
            "108/108 [==============================] - 1s 11ms/step - loss: 0.1228 - accuracy: 0.9647 - val_loss: 0.0930 - val_accuracy: 0.9737\n",
            "Epoch 9/50\n",
            "108/108 [==============================] - 1s 11ms/step - loss: 0.1127 - accuracy: 0.9674 - val_loss: 0.0889 - val_accuracy: 0.9740\n",
            "Epoch 10/50\n",
            "108/108 [==============================] - 1s 12ms/step - loss: 0.1034 - accuracy: 0.9699 - val_loss: 0.0852 - val_accuracy: 0.9762\n",
            "Epoch 11/50\n",
            "108/108 [==============================] - 1s 11ms/step - loss: 0.0966 - accuracy: 0.9717 - val_loss: 0.0806 - val_accuracy: 0.9772\n",
            "Epoch 12/50\n",
            "108/108 [==============================] - 1s 11ms/step - loss: 0.0871 - accuracy: 0.9741 - val_loss: 0.0791 - val_accuracy: 0.9787\n",
            "Epoch 13/50\n",
            "108/108 [==============================] - 1s 11ms/step - loss: 0.0837 - accuracy: 0.9748 - val_loss: 0.0754 - val_accuracy: 0.9790\n",
            "Epoch 14/50\n",
            "108/108 [==============================] - 1s 11ms/step - loss: 0.0767 - accuracy: 0.9777 - val_loss: 0.0747 - val_accuracy: 0.9783\n",
            "Epoch 15/50\n",
            "108/108 [==============================] - 1s 11ms/step - loss: 0.0731 - accuracy: 0.9783 - val_loss: 0.0729 - val_accuracy: 0.9795\n",
            "Epoch 16/50\n",
            "108/108 [==============================] - 1s 11ms/step - loss: 0.0680 - accuracy: 0.9799 - val_loss: 0.0712 - val_accuracy: 0.9802\n",
            "Epoch 17/50\n",
            "108/108 [==============================] - 1s 11ms/step - loss: 0.0641 - accuracy: 0.9811 - val_loss: 0.0706 - val_accuracy: 0.9793\n",
            "Epoch 18/50\n",
            "108/108 [==============================] - 1s 11ms/step - loss: 0.0611 - accuracy: 0.9821 - val_loss: 0.0677 - val_accuracy: 0.9803\n",
            "Epoch 19/50\n",
            "108/108 [==============================] - 1s 11ms/step - loss: 0.0594 - accuracy: 0.9819 - val_loss: 0.0707 - val_accuracy: 0.9797\n",
            "Epoch 20/50\n",
            "108/108 [==============================] - 1s 11ms/step - loss: 0.0559 - accuracy: 0.9833 - val_loss: 0.0666 - val_accuracy: 0.9803\n",
            "Epoch 21/50\n",
            "108/108 [==============================] - 1s 11ms/step - loss: 0.0528 - accuracy: 0.9839 - val_loss: 0.0646 - val_accuracy: 0.9818\n",
            "Epoch 22/50\n",
            "108/108 [==============================] - 1s 11ms/step - loss: 0.0508 - accuracy: 0.9844 - val_loss: 0.0679 - val_accuracy: 0.9810\n",
            "Epoch 23/50\n",
            "108/108 [==============================] - 1s 11ms/step - loss: 0.0490 - accuracy: 0.9853 - val_loss: 0.0674 - val_accuracy: 0.9810\n",
            "Epoch 24/50\n",
            "108/108 [==============================] - 1s 11ms/step - loss: 0.0451 - accuracy: 0.9866 - val_loss: 0.0661 - val_accuracy: 0.9803\n",
            "Epoch 25/50\n",
            "108/108 [==============================] - 1s 11ms/step - loss: 0.0433 - accuracy: 0.9864 - val_loss: 0.0648 - val_accuracy: 0.9813\n",
            "Epoch 26/50\n",
            "108/108 [==============================] - 1s 11ms/step - loss: 0.0419 - accuracy: 0.9867 - val_loss: 0.0648 - val_accuracy: 0.9823\n",
            "Epoch 27/50\n",
            "108/108 [==============================] - 1s 13ms/step - loss: 0.0394 - accuracy: 0.9882 - val_loss: 0.0673 - val_accuracy: 0.9805\n",
            "Epoch 28/50\n",
            "108/108 [==============================] - 1s 11ms/step - loss: 0.0390 - accuracy: 0.9882 - val_loss: 0.0647 - val_accuracy: 0.9805\n",
            "Epoch 29/50\n",
            "108/108 [==============================] - 1s 11ms/step - loss: 0.0360 - accuracy: 0.9897 - val_loss: 0.0645 - val_accuracy: 0.9818\n",
            "Epoch 30/50\n",
            "108/108 [==============================] - 1s 12ms/step - loss: 0.0371 - accuracy: 0.9889 - val_loss: 0.0653 - val_accuracy: 0.9802\n",
            "Epoch 31/50\n",
            "108/108 [==============================] - 1s 12ms/step - loss: 0.0344 - accuracy: 0.9896 - val_loss: 0.0654 - val_accuracy: 0.9808\n",
            "Epoch 32/50\n",
            "108/108 [==============================] - 1s 11ms/step - loss: 0.0333 - accuracy: 0.9900 - val_loss: 0.0622 - val_accuracy: 0.9812\n",
            "Epoch 33/50\n",
            "108/108 [==============================] - 1s 12ms/step - loss: 0.0327 - accuracy: 0.9900 - val_loss: 0.0656 - val_accuracy: 0.9805\n",
            "Epoch 34/50\n",
            "108/108 [==============================] - 1s 11ms/step - loss: 0.0302 - accuracy: 0.9910 - val_loss: 0.0627 - val_accuracy: 0.9817\n",
            "Epoch 35/50\n",
            "108/108 [==============================] - 1s 11ms/step - loss: 0.0315 - accuracy: 0.9901 - val_loss: 0.0635 - val_accuracy: 0.9827\n",
            "Epoch 36/50\n",
            "108/108 [==============================] - 1s 11ms/step - loss: 0.0294 - accuracy: 0.9911 - val_loss: 0.0651 - val_accuracy: 0.9817\n",
            "Epoch 37/50\n",
            "108/108 [==============================] - 1s 12ms/step - loss: 0.0274 - accuracy: 0.9921 - val_loss: 0.0658 - val_accuracy: 0.9810\n",
            "Epoch 38/50\n",
            "108/108 [==============================] - 1s 11ms/step - loss: 0.0268 - accuracy: 0.9919 - val_loss: 0.0643 - val_accuracy: 0.9832\n",
            "Epoch 39/50\n",
            "108/108 [==============================] - 1s 11ms/step - loss: 0.0260 - accuracy: 0.9919 - val_loss: 0.0643 - val_accuracy: 0.9835\n",
            "Epoch 40/50\n",
            "108/108 [==============================] - 1s 11ms/step - loss: 0.0251 - accuracy: 0.9924 - val_loss: 0.0634 - val_accuracy: 0.9820\n",
            "Epoch 41/50\n",
            "108/108 [==============================] - 1s 11ms/step - loss: 0.0233 - accuracy: 0.9926 - val_loss: 0.0665 - val_accuracy: 0.9822\n",
            "Epoch 42/50\n",
            "108/108 [==============================] - 1s 11ms/step - loss: 0.0231 - accuracy: 0.9930 - val_loss: 0.0650 - val_accuracy: 0.9817\n",
            "Epoch 43/50\n",
            "108/108 [==============================] - 1s 11ms/step - loss: 0.0241 - accuracy: 0.9924 - val_loss: 0.0662 - val_accuracy: 0.9835\n",
            "Epoch 44/50\n",
            "108/108 [==============================] - 1s 11ms/step - loss: 0.0229 - accuracy: 0.9930 - val_loss: 0.0682 - val_accuracy: 0.9818\n",
            "Epoch 45/50\n",
            "108/108 [==============================] - 1s 11ms/step - loss: 0.0220 - accuracy: 0.9931 - val_loss: 0.0652 - val_accuracy: 0.9825\n",
            "Epoch 46/50\n",
            "108/108 [==============================] - 1s 12ms/step - loss: 0.0199 - accuracy: 0.9942 - val_loss: 0.0654 - val_accuracy: 0.9818\n",
            "Epoch 47/50\n",
            "108/108 [==============================] - 1s 11ms/step - loss: 0.0208 - accuracy: 0.9939 - val_loss: 0.0673 - val_accuracy: 0.9828\n",
            "Epoch 48/50\n",
            "108/108 [==============================] - 1s 11ms/step - loss: 0.0201 - accuracy: 0.9940 - val_loss: 0.0665 - val_accuracy: 0.9818\n",
            "Epoch 49/50\n",
            "108/108 [==============================] - 1s 11ms/step - loss: 0.0199 - accuracy: 0.9939 - val_loss: 0.0678 - val_accuracy: 0.9818\n"
          ],
          "name": "stdout"
        }
      ]
    },
    {
      "cell_type": "markdown",
      "metadata": {
        "id": "2-LvHRWmp5kT",
        "colab_type": "text"
      },
      "source": [
        "Evaluating accuracy on the test set, most of you should see a small improvement:"
      ]
    },
    {
      "cell_type": "code",
      "metadata": {
        "id": "kyK_MmIfqBNP",
        "colab_type": "code",
        "outputId": "f6a79ca6-e903-4633-d691-81bf29c6b18a",
        "colab": {
          "base_uri": "https://localhost:8080/",
          "height": 51
        }
      },
      "source": [
        "score = dropout_model.evaluate(x_test_scl, y_test, verbose=0)\n",
        "print(\"Test accuracy:\")\n",
        "print(\"{}%\".format(np.round(100*score[1], 2)))"
      ],
      "execution_count": 0,
      "outputs": [
        {
          "output_type": "stream",
          "text": [
            "Test accuracy:\n",
            "97.9%\n"
          ],
          "name": "stdout"
        }
      ]
    },
    {
      "cell_type": "markdown",
      "metadata": {
        "id": "Ddpr3-PhxHuB",
        "colab_type": "text"
      },
      "source": [
        "## __Summarizing incremental improvements__"
      ]
    },
    {
      "cell_type": "markdown",
      "metadata": {
        "id": "dJqzOEGvr8iR",
        "colab_type": "text"
      },
      "source": [
        "Even if you didn't see the improvements in specific cases, maybe a small statistical anecdote will convince you of the incremental improvements we made. Each of the nets we fit above were refit 10 times for 50 epochs or whenever the stopping criterion was met, and the test accuracy is reported using boxplots below."
      ]
    },
    {
      "cell_type": "code",
      "metadata": {
        "id": "nernUk_2sbqe",
        "colab_type": "code",
        "outputId": "68b77398-1afc-4ef9-be92-a5d1ae8ecaef",
        "colab": {
          "base_uri": "https://localhost:8080/",
          "height": 649
        }
      },
      "source": [
        "# Experimental results, 10 fits each, 50 epochs or whenever a callback stops training.\n",
        "basic = [95.19, 95.35, 95.76, 95.15, 94.69, 95.18, 95.36, 95.04, 95.41, 95.17]\n",
        "scale = [97.75, 98.07, 97.61, 97.93, 97.84, 97.93, 97.81, 97.86, 98.11, 97.98]\n",
        "valid = [97.89, 97.98, 97.88, 97.87, 98.05, 98.10, 97.96, 97.73, 98.05, 98.06]\n",
        "dropout = [98.06, 98.12, 98.15, 97.95, 98.15, 98.18, 98.09, 98.08, 98.07, 98.23]\n",
        "\n",
        "# Construct pandas DataFrame from results.\n",
        "df = pd.DataFrame({'Model Type' : [\"Basic\"]*10 + [\"Scaled\"]*10 + [\"Validation\"]*10 + [\"Dropout\"]*10,\n",
        "        'Test Accuracy (%)' : basic + scale + valid + dropout})\n",
        "df['Model Type'] = df['Model Type'].astype(pd.api.types.CategoricalDtype(categories = [\"Basic\", \"Scaled\", \"Validation\", \"Dropout\"], ordered=True))\n",
        "\n",
        "# Draw boxplots of test performance by model type.\n",
        "sns.set(font_scale = 2)\n",
        "fig = plt.figure(figsize=(10, 10))\n",
        "sns.boxplot(x = df['Model Type'], y = df['Test Accuracy (%)'], )"
      ],
      "execution_count": 0,
      "outputs": [
        {
          "output_type": "execute_result",
          "data": {
            "text/plain": [
              "<matplotlib.axes._subplots.AxesSubplot at 0x7f0a303d45f8>"
            ]
          },
          "metadata": {
            "tags": []
          },
          "execution_count": 23
        },
        {
          "output_type": "display_data",
          "data": {
            "image/png": "[encoded data removed]",
            "text/plain": [
              "<Figure size 720x720 with 1 Axes>"
            ]
          },
          "metadata": {
            "tags": []
          }
        }
      ]
    },
    {
      "cell_type": "markdown",
      "metadata": {
        "id": "JtBYJb-7k8uS",
        "colab_type": "text"
      },
      "source": [
        "## __Exercise: can you improve on the dropout model?__ (~10 min)\n",
        "\n",
        "Can you improve on the dropout model using only the layer types we've used so far? Keep track of your best test accuracy and the changes you made to get it. We'll reconvene to see who was able to do the best.\n",
        "\n",
        "__Tips__: try making the network more complex. Add a layer or two and/or increase the number of hidden nodes. Remember that complexity can lead to overfitting, so make use of dropout!"
      ]
    },
    {
      "cell_type": "code",
      "metadata": {
        "id": "oyi7m3Tdk88W",
        "colab_type": "code",
        "outputId": "24d855b3-6f47-4023-8b1a-fd210cc7060f",
        "colab": {
          "base_uri": "https://localhost:8080/",
          "height": 1000
        }
      },
      "source": [
        "ex_model = Sequential()\n",
        "ex_model.add(Flatten(input_shape=(28, 28)))\n",
        "ex_model.add(Dense(128))\n",
        "ex_model.add(Activation(activation = 'relu'))\n",
        "ex_model.add(Dropout(rate = 0.2))\n",
        "ex_model.add(Dense(10))\n",
        "ex_model.add(Activation(activation = 'softmax'))\n",
        "\n",
        "ex_model.compile(optimizer = optim,\n",
        "              loss = loss_fn,\n",
        "              metrics = ['accuracy'])\n",
        "\n",
        "# Use a callback to stop the model training once \"patience\" epochs have passed\n",
        "# without improvement in the validation accuracy. In addition, request\n",
        "# that the weights from the best iteration are restored.\n",
        "callback = tf.keras.callbacks.EarlyStopping(monitor = 'val_accuracy', \n",
        "                                            patience = 10,\n",
        "                                            restore_best_weights = True)\n",
        "\n",
        "# Add our callback to the model. Several callbacks could be specified\n",
        "# in a single list!\n",
        "history = ex_model.fit(x_train_scl, \n",
        "          y_train, \n",
        "          batch_size = batch_size,\n",
        "          epochs = 50,\n",
        "          validation_split = 0.1,\n",
        "          callbacks = [callback])\n",
        "\n",
        "score = ex_model.evaluate(x_test_scl, y_test, verbose=0)\n",
        "print(\"Test accuracy:\")\n",
        "print(\"{}%\".format(np.round(100*score[1], 2)))"
      ],
      "execution_count": 0,
      "outputs": [
        {
          "output_type": "stream",
          "text": [
            "Epoch 1/50\n",
            "108/108 [==============================] - 1s 13ms/step - loss: 0.6628 - accuracy: 0.8113 - val_loss: 0.2555 - val_accuracy: 0.9353\n",
            "Epoch 2/50\n",
            "108/108 [==============================] - 1s 12ms/step - loss: 0.3026 - accuracy: 0.9138 - val_loss: 0.1894 - val_accuracy: 0.9525\n",
            "Epoch 3/50\n",
            "108/108 [==============================] - 1s 12ms/step - loss: 0.2392 - accuracy: 0.9319 - val_loss: 0.1553 - val_accuracy: 0.9597\n",
            "Epoch 4/50\n",
            "108/108 [==============================] - 1s 12ms/step - loss: 0.1986 - accuracy: 0.9438 - val_loss: 0.1325 - val_accuracy: 0.9645\n",
            "Epoch 5/50\n",
            "108/108 [==============================] - 1s 12ms/step - loss: 0.1739 - accuracy: 0.9514 - val_loss: 0.1186 - val_accuracy: 0.9677\n",
            "Epoch 6/50\n",
            "108/108 [==============================] - 1s 12ms/step - loss: 0.1544 - accuracy: 0.9557 - val_loss: 0.1100 - val_accuracy: 0.9703\n",
            "Epoch 7/50\n",
            "108/108 [==============================] - 1s 11ms/step - loss: 0.1373 - accuracy: 0.9599 - val_loss: 0.0990 - val_accuracy: 0.9717\n",
            "Epoch 8/50\n",
            "108/108 [==============================] - 1s 11ms/step - loss: 0.1242 - accuracy: 0.9640 - val_loss: 0.0917 - val_accuracy: 0.9745\n",
            "Epoch 9/50\n",
            "108/108 [==============================] - 1s 12ms/step - loss: 0.1112 - accuracy: 0.9672 - val_loss: 0.0880 - val_accuracy: 0.9748\n",
            "Epoch 10/50\n",
            "108/108 [==============================] - 1s 12ms/step - loss: 0.1048 - accuracy: 0.9699 - val_loss: 0.0841 - val_accuracy: 0.9760\n",
            "Epoch 11/50\n",
            "108/108 [==============================] - 1s 12ms/step - loss: 0.0953 - accuracy: 0.9719 - val_loss: 0.0802 - val_accuracy: 0.9768\n",
            "Epoch 12/50\n",
            "108/108 [==============================] - 1s 11ms/step - loss: 0.0898 - accuracy: 0.9734 - val_loss: 0.0773 - val_accuracy: 0.9778\n",
            "Epoch 13/50\n",
            "108/108 [==============================] - 1s 11ms/step - loss: 0.0850 - accuracy: 0.9747 - val_loss: 0.0751 - val_accuracy: 0.9783\n",
            "Epoch 14/50\n",
            "108/108 [==============================] - 1s 11ms/step - loss: 0.0783 - accuracy: 0.9768 - val_loss: 0.0750 - val_accuracy: 0.9777\n",
            "Epoch 15/50\n",
            "108/108 [==============================] - 1s 11ms/step - loss: 0.0726 - accuracy: 0.9791 - val_loss: 0.0720 - val_accuracy: 0.9795\n",
            "Epoch 16/50\n",
            "108/108 [==============================] - 1s 11ms/step - loss: 0.0693 - accuracy: 0.9796 - val_loss: 0.0708 - val_accuracy: 0.9800\n",
            "Epoch 17/50\n",
            "108/108 [==============================] - 1s 11ms/step - loss: 0.0639 - accuracy: 0.9816 - val_loss: 0.0727 - val_accuracy: 0.9800\n",
            "Epoch 18/50\n",
            "108/108 [==============================] - 1s 11ms/step - loss: 0.0617 - accuracy: 0.9814 - val_loss: 0.0671 - val_accuracy: 0.9810\n",
            "Epoch 19/50\n",
            "108/108 [==============================] - 1s 11ms/step - loss: 0.0599 - accuracy: 0.9819 - val_loss: 0.0678 - val_accuracy: 0.9808\n",
            "Epoch 20/50\n",
            "108/108 [==============================] - 1s 12ms/step - loss: 0.0538 - accuracy: 0.9842 - val_loss: 0.0676 - val_accuracy: 0.9813\n",
            "Epoch 21/50\n",
            "108/108 [==============================] - 1s 12ms/step - loss: 0.0529 - accuracy: 0.9844 - val_loss: 0.0681 - val_accuracy: 0.9822\n",
            "Epoch 22/50\n",
            "108/108 [==============================] - 1s 11ms/step - loss: 0.0499 - accuracy: 0.9851 - val_loss: 0.0656 - val_accuracy: 0.9815\n",
            "Epoch 23/50\n",
            "108/108 [==============================] - 1s 11ms/step - loss: 0.0481 - accuracy: 0.9860 - val_loss: 0.0654 - val_accuracy: 0.9818\n",
            "Epoch 24/50\n",
            "108/108 [==============================] - 1s 12ms/step - loss: 0.0463 - accuracy: 0.9866 - val_loss: 0.0659 - val_accuracy: 0.9817\n",
            "Epoch 25/50\n",
            "108/108 [==============================] - 2s 15ms/step - loss: 0.0445 - accuracy: 0.9866 - val_loss: 0.0638 - val_accuracy: 0.9822\n",
            "Epoch 26/50\n",
            "108/108 [==============================] - 1s 13ms/step - loss: 0.0412 - accuracy: 0.9878 - val_loss: 0.0649 - val_accuracy: 0.9822\n",
            "Epoch 27/50\n",
            "108/108 [==============================] - 1s 13ms/step - loss: 0.0406 - accuracy: 0.9883 - val_loss: 0.0656 - val_accuracy: 0.9822\n",
            "Epoch 28/50\n",
            "108/108 [==============================] - 1s 12ms/step - loss: 0.0385 - accuracy: 0.9882 - val_loss: 0.0650 - val_accuracy: 0.9820\n",
            "Epoch 29/50\n",
            "108/108 [==============================] - 1s 14ms/step - loss: 0.0369 - accuracy: 0.9891 - val_loss: 0.0663 - val_accuracy: 0.9815\n",
            "Epoch 30/50\n",
            "108/108 [==============================] - 1s 13ms/step - loss: 0.0346 - accuracy: 0.9894 - val_loss: 0.0640 - val_accuracy: 0.9838\n",
            "Epoch 31/50\n",
            "108/108 [==============================] - 1s 13ms/step - loss: 0.0330 - accuracy: 0.9900 - val_loss: 0.0638 - val_accuracy: 0.9832\n",
            "Epoch 32/50\n",
            "108/108 [==============================] - 1s 12ms/step - loss: 0.0329 - accuracy: 0.9903 - val_loss: 0.0664 - val_accuracy: 0.9820\n",
            "Epoch 33/50\n",
            "108/108 [==============================] - 1s 11ms/step - loss: 0.0315 - accuracy: 0.9904 - val_loss: 0.0651 - val_accuracy: 0.9822\n",
            "Epoch 34/50\n",
            "108/108 [==============================] - 1s 11ms/step - loss: 0.0298 - accuracy: 0.9909 - val_loss: 0.0653 - val_accuracy: 0.9822\n",
            "Epoch 35/50\n",
            "108/108 [==============================] - 1s 11ms/step - loss: 0.0294 - accuracy: 0.9914 - val_loss: 0.0644 - val_accuracy: 0.9828\n",
            "Epoch 36/50\n",
            "108/108 [==============================] - 1s 11ms/step - loss: 0.0296 - accuracy: 0.9912 - val_loss: 0.0652 - val_accuracy: 0.9832\n",
            "Epoch 37/50\n",
            "108/108 [==============================] - 1s 10ms/step - loss: 0.0276 - accuracy: 0.9918 - val_loss: 0.0652 - val_accuracy: 0.9835\n",
            "Epoch 38/50\n",
            "108/108 [==============================] - 1s 11ms/step - loss: 0.0265 - accuracy: 0.9919 - val_loss: 0.0663 - val_accuracy: 0.9838\n",
            "Epoch 39/50\n",
            "108/108 [==============================] - 1s 11ms/step - loss: 0.0254 - accuracy: 0.9920 - val_loss: 0.0679 - val_accuracy: 0.9840\n",
            "Epoch 40/50\n",
            "108/108 [==============================] - 1s 11ms/step - loss: 0.0255 - accuracy: 0.9922 - val_loss: 0.0655 - val_accuracy: 0.9845\n",
            "Epoch 41/50\n",
            "108/108 [==============================] - 1s 11ms/step - loss: 0.0244 - accuracy: 0.9926 - val_loss: 0.0658 - val_accuracy: 0.9837\n",
            "Epoch 42/50\n",
            "108/108 [==============================] - 1s 11ms/step - loss: 0.0238 - accuracy: 0.9926 - val_loss: 0.0646 - val_accuracy: 0.9828\n",
            "Epoch 43/50\n",
            "108/108 [==============================] - 1s 11ms/step - loss: 0.0229 - accuracy: 0.9929 - val_loss: 0.0653 - val_accuracy: 0.9837\n",
            "Epoch 44/50\n",
            "108/108 [==============================] - 1s 12ms/step - loss: 0.0216 - accuracy: 0.9935 - val_loss: 0.0655 - val_accuracy: 0.9842\n",
            "Epoch 45/50\n",
            "108/108 [==============================] - 1s 11ms/step - loss: 0.0217 - accuracy: 0.9934 - val_loss: 0.0677 - val_accuracy: 0.9842\n",
            "Epoch 46/50\n",
            "108/108 [==============================] - 1s 11ms/step - loss: 0.0208 - accuracy: 0.9935 - val_loss: 0.0650 - val_accuracy: 0.9828\n",
            "Epoch 47/50\n",
            "108/108 [==============================] - 1s 12ms/step - loss: 0.0206 - accuracy: 0.9942 - val_loss: 0.0709 - val_accuracy: 0.9840\n",
            "Epoch 48/50\n",
            "108/108 [==============================] - 1s 11ms/step - loss: 0.0198 - accuracy: 0.9941 - val_loss: 0.0711 - val_accuracy: 0.9828\n",
            "Epoch 49/50\n",
            "108/108 [==============================] - 1s 11ms/step - loss: 0.0199 - accuracy: 0.9938 - val_loss: 0.0694 - val_accuracy: 0.9835\n",
            "Epoch 50/50\n",
            "108/108 [==============================] - 1s 11ms/step - loss: 0.0190 - accuracy: 0.9945 - val_loss: 0.0695 - val_accuracy: 0.9835\n",
            "Test accuracy:\n",
            "98.02%\n"
          ],
          "name": "stdout"
        }
      ]
    },
    {
      "cell_type": "markdown",
      "metadata": {
        "id": "_ehrTNyDmfhn",
        "colab_type": "text"
      },
      "source": [
        "## __Review__\n",
        "\n",
        "Concepts to know:\n",
        "\n",
        "- __Network architecture__\n",
        "  - Expressing a model in TensorFlow using a network diagram\n",
        "- __Best practices__\n",
        "  - Feature scaling (can also normalize)\n",
        "  - One-hot encoding\n",
        "- __Validation splits__\n",
        "  - Using callbacks to stop model training early\n",
        "- __Dropout__\n",
        "  - What is the purpose of this layer?\n",
        "  - How does it work?"
      ]
    },
    {
      "cell_type": "markdown",
      "metadata": {
        "id": "yWl9mYKM0HAg",
        "colab_type": "text"
      },
      "source": [
        "## __Next__: boosting accuracy via convolutional layers."
      ]
    }
  ]
}